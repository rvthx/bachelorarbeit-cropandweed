{
  "nbformat": 4,
  "nbformat_minor": 0,
  "metadata": {
    "colab": {
      "provenance": [],
      "gpuType": "V100",
      "mount_file_id": "1Xt0enBIintQWQYErXbejNtkPPSrE9zHF",
      "authorship_tag": "ABX9TyP9oIuGBVeIUk7UdXuCci/W",
      "include_colab_link": true
    },
    "kernelspec": {
      "name": "python3",
      "display_name": "Python 3"
    },
    "language_info": {
      "name": "python"
    },
    "accelerator": "GPU",
    "widgets": {
      "application/vnd.jupyter.widget-state+json": {
        "53826751cc3f4ce292a1d2cae1d9062f": {
          "model_module": "@jupyter-widgets/controls",
          "model_name": "HBoxModel",
          "model_module_version": "1.5.0",
          "state": {
            "_dom_classes": [],
            "_model_module": "@jupyter-widgets/controls",
            "_model_module_version": "1.5.0",
            "_model_name": "HBoxModel",
            "_view_count": null,
            "_view_module": "@jupyter-widgets/controls",
            "_view_module_version": "1.5.0",
            "_view_name": "HBoxView",
            "box_style": "",
            "children": [
              "IPY_MODEL_26c8066ddb914c4fa8e92ab62142b4ab",
              "IPY_MODEL_b1b88d0719814cbfa5e691f9e0e4f8bb",
              "IPY_MODEL_c093d17c89064af696acd5c2b606399e"
            ],
            "layout": "IPY_MODEL_5a694e0ab5704f75bce4f81620bbfd45"
          }
        },
        "26c8066ddb914c4fa8e92ab62142b4ab": {
          "model_module": "@jupyter-widgets/controls",
          "model_name": "HTMLModel",
          "model_module_version": "1.5.0",
          "state": {
            "_dom_classes": [],
            "_model_module": "@jupyter-widgets/controls",
            "_model_module_version": "1.5.0",
            "_model_name": "HTMLModel",
            "_view_count": null,
            "_view_module": "@jupyter-widgets/controls",
            "_view_module_version": "1.5.0",
            "_view_name": "HTMLView",
            "description": "",
            "description_tooltip": null,
            "layout": "IPY_MODEL_2c9b2c25c9dd4840b22b21e4dc32206a",
            "placeholder": "​",
            "style": "IPY_MODEL_a914a159d4a741c1b26990c81c38157a",
            "value": "Dl Completed...: 100%"
          }
        },
        "b1b88d0719814cbfa5e691f9e0e4f8bb": {
          "model_module": "@jupyter-widgets/controls",
          "model_name": "FloatProgressModel",
          "model_module_version": "1.5.0",
          "state": {
            "_dom_classes": [],
            "_model_module": "@jupyter-widgets/controls",
            "_model_module_version": "1.5.0",
            "_model_name": "FloatProgressModel",
            "_view_count": null,
            "_view_module": "@jupyter-widgets/controls",
            "_view_module_version": "1.5.0",
            "_view_name": "ProgressView",
            "bar_style": "success",
            "description": "",
            "description_tooltip": null,
            "layout": "IPY_MODEL_9fee26142adb4b7aa9e5a919f8b90c2a",
            "max": 1,
            "min": 0,
            "orientation": "horizontal",
            "style": "IPY_MODEL_9da424b0956a4be9b27865b99bdddabb",
            "value": 1
          }
        },
        "c093d17c89064af696acd5c2b606399e": {
          "model_module": "@jupyter-widgets/controls",
          "model_name": "HTMLModel",
          "model_module_version": "1.5.0",
          "state": {
            "_dom_classes": [],
            "_model_module": "@jupyter-widgets/controls",
            "_model_module_version": "1.5.0",
            "_model_name": "HTMLModel",
            "_view_count": null,
            "_view_module": "@jupyter-widgets/controls",
            "_view_module_version": "1.5.0",
            "_view_name": "HTMLView",
            "description": "",
            "description_tooltip": null,
            "layout": "IPY_MODEL_4ca14dca2b424ef39370585c4f57a8ee",
            "placeholder": "​",
            "style": "IPY_MODEL_f2528ea57f6e43e48588f74fc5518d9f",
            "value": " 2/2 [01:03&lt;00:00,  9.99s/ url]"
          }
        },
        "5a694e0ab5704f75bce4f81620bbfd45": {
          "model_module": "@jupyter-widgets/base",
          "model_name": "LayoutModel",
          "model_module_version": "1.2.0",
          "state": {
            "_model_module": "@jupyter-widgets/base",
            "_model_module_version": "1.2.0",
            "_model_name": "LayoutModel",
            "_view_count": null,
            "_view_module": "@jupyter-widgets/base",
            "_view_module_version": "1.2.0",
            "_view_name": "LayoutView",
            "align_content": null,
            "align_items": null,
            "align_self": null,
            "border": null,
            "bottom": null,
            "display": null,
            "flex": null,
            "flex_flow": null,
            "grid_area": null,
            "grid_auto_columns": null,
            "grid_auto_flow": null,
            "grid_auto_rows": null,
            "grid_column": null,
            "grid_gap": null,
            "grid_row": null,
            "grid_template_areas": null,
            "grid_template_columns": null,
            "grid_template_rows": null,
            "height": null,
            "justify_content": null,
            "justify_items": null,
            "left": null,
            "margin": null,
            "max_height": null,
            "max_width": null,
            "min_height": null,
            "min_width": null,
            "object_fit": null,
            "object_position": null,
            "order": null,
            "overflow": null,
            "overflow_x": null,
            "overflow_y": null,
            "padding": null,
            "right": null,
            "top": null,
            "visibility": null,
            "width": null
          }
        },
        "2c9b2c25c9dd4840b22b21e4dc32206a": {
          "model_module": "@jupyter-widgets/base",
          "model_name": "LayoutModel",
          "model_module_version": "1.2.0",
          "state": {
            "_model_module": "@jupyter-widgets/base",
            "_model_module_version": "1.2.0",
            "_model_name": "LayoutModel",
            "_view_count": null,
            "_view_module": "@jupyter-widgets/base",
            "_view_module_version": "1.2.0",
            "_view_name": "LayoutView",
            "align_content": null,
            "align_items": null,
            "align_self": null,
            "border": null,
            "bottom": null,
            "display": null,
            "flex": null,
            "flex_flow": null,
            "grid_area": null,
            "grid_auto_columns": null,
            "grid_auto_flow": null,
            "grid_auto_rows": null,
            "grid_column": null,
            "grid_gap": null,
            "grid_row": null,
            "grid_template_areas": null,
            "grid_template_columns": null,
            "grid_template_rows": null,
            "height": null,
            "justify_content": null,
            "justify_items": null,
            "left": null,
            "margin": null,
            "max_height": null,
            "max_width": null,
            "min_height": null,
            "min_width": null,
            "object_fit": null,
            "object_position": null,
            "order": null,
            "overflow": null,
            "overflow_x": null,
            "overflow_y": null,
            "padding": null,
            "right": null,
            "top": null,
            "visibility": null,
            "width": null
          }
        },
        "a914a159d4a741c1b26990c81c38157a": {
          "model_module": "@jupyter-widgets/controls",
          "model_name": "DescriptionStyleModel",
          "model_module_version": "1.5.0",
          "state": {
            "_model_module": "@jupyter-widgets/controls",
            "_model_module_version": "1.5.0",
            "_model_name": "DescriptionStyleModel",
            "_view_count": null,
            "_view_module": "@jupyter-widgets/base",
            "_view_module_version": "1.2.0",
            "_view_name": "StyleView",
            "description_width": ""
          }
        },
        "9fee26142adb4b7aa9e5a919f8b90c2a": {
          "model_module": "@jupyter-widgets/base",
          "model_name": "LayoutModel",
          "model_module_version": "1.2.0",
          "state": {
            "_model_module": "@jupyter-widgets/base",
            "_model_module_version": "1.2.0",
            "_model_name": "LayoutModel",
            "_view_count": null,
            "_view_module": "@jupyter-widgets/base",
            "_view_module_version": "1.2.0",
            "_view_name": "LayoutView",
            "align_content": null,
            "align_items": null,
            "align_self": null,
            "border": null,
            "bottom": null,
            "display": null,
            "flex": null,
            "flex_flow": null,
            "grid_area": null,
            "grid_auto_columns": null,
            "grid_auto_flow": null,
            "grid_auto_rows": null,
            "grid_column": null,
            "grid_gap": null,
            "grid_row": null,
            "grid_template_areas": null,
            "grid_template_columns": null,
            "grid_template_rows": null,
            "height": null,
            "justify_content": null,
            "justify_items": null,
            "left": null,
            "margin": null,
            "max_height": null,
            "max_width": null,
            "min_height": null,
            "min_width": null,
            "object_fit": null,
            "object_position": null,
            "order": null,
            "overflow": null,
            "overflow_x": null,
            "overflow_y": null,
            "padding": null,
            "right": null,
            "top": null,
            "visibility": null,
            "width": "20px"
          }
        },
        "9da424b0956a4be9b27865b99bdddabb": {
          "model_module": "@jupyter-widgets/controls",
          "model_name": "ProgressStyleModel",
          "model_module_version": "1.5.0",
          "state": {
            "_model_module": "@jupyter-widgets/controls",
            "_model_module_version": "1.5.0",
            "_model_name": "ProgressStyleModel",
            "_view_count": null,
            "_view_module": "@jupyter-widgets/base",
            "_view_module_version": "1.2.0",
            "_view_name": "StyleView",
            "bar_color": null,
            "description_width": ""
          }
        },
        "4ca14dca2b424ef39370585c4f57a8ee": {
          "model_module": "@jupyter-widgets/base",
          "model_name": "LayoutModel",
          "model_module_version": "1.2.0",
          "state": {
            "_model_module": "@jupyter-widgets/base",
            "_model_module_version": "1.2.0",
            "_model_name": "LayoutModel",
            "_view_count": null,
            "_view_module": "@jupyter-widgets/base",
            "_view_module_version": "1.2.0",
            "_view_name": "LayoutView",
            "align_content": null,
            "align_items": null,
            "align_self": null,
            "border": null,
            "bottom": null,
            "display": null,
            "flex": null,
            "flex_flow": null,
            "grid_area": null,
            "grid_auto_columns": null,
            "grid_auto_flow": null,
            "grid_auto_rows": null,
            "grid_column": null,
            "grid_gap": null,
            "grid_row": null,
            "grid_template_areas": null,
            "grid_template_columns": null,
            "grid_template_rows": null,
            "height": null,
            "justify_content": null,
            "justify_items": null,
            "left": null,
            "margin": null,
            "max_height": null,
            "max_width": null,
            "min_height": null,
            "min_width": null,
            "object_fit": null,
            "object_position": null,
            "order": null,
            "overflow": null,
            "overflow_x": null,
            "overflow_y": null,
            "padding": null,
            "right": null,
            "top": null,
            "visibility": null,
            "width": null
          }
        },
        "f2528ea57f6e43e48588f74fc5518d9f": {
          "model_module": "@jupyter-widgets/controls",
          "model_name": "DescriptionStyleModel",
          "model_module_version": "1.5.0",
          "state": {
            "_model_module": "@jupyter-widgets/controls",
            "_model_module_version": "1.5.0",
            "_model_name": "DescriptionStyleModel",
            "_view_count": null,
            "_view_module": "@jupyter-widgets/base",
            "_view_module_version": "1.2.0",
            "_view_name": "StyleView",
            "description_width": ""
          }
        },
        "0d1c97eb8bef4b3eacaa710e39829e0b": {
          "model_module": "@jupyter-widgets/controls",
          "model_name": "HBoxModel",
          "model_module_version": "1.5.0",
          "state": {
            "_dom_classes": [],
            "_model_module": "@jupyter-widgets/controls",
            "_model_module_version": "1.5.0",
            "_model_name": "HBoxModel",
            "_view_count": null,
            "_view_module": "@jupyter-widgets/controls",
            "_view_module_version": "1.5.0",
            "_view_name": "HBoxView",
            "box_style": "",
            "children": [
              "IPY_MODEL_0308fdaf41e249b8859d79c2535b999b",
              "IPY_MODEL_ce542284f08c4fdfb4b0797ff3ed3ded",
              "IPY_MODEL_b163d9ed1a75499486d50ecac5634310"
            ],
            "layout": "IPY_MODEL_ed5359c1772045a982c48633a21c9b95"
          }
        },
        "0308fdaf41e249b8859d79c2535b999b": {
          "model_module": "@jupyter-widgets/controls",
          "model_name": "HTMLModel",
          "model_module_version": "1.5.0",
          "state": {
            "_dom_classes": [],
            "_model_module": "@jupyter-widgets/controls",
            "_model_module_version": "1.5.0",
            "_model_name": "HTMLModel",
            "_view_count": null,
            "_view_module": "@jupyter-widgets/controls",
            "_view_module_version": "1.5.0",
            "_view_name": "HTMLView",
            "description": "",
            "description_tooltip": null,
            "layout": "IPY_MODEL_ebbfeb3189794829bb99215f7b321376",
            "placeholder": "​",
            "style": "IPY_MODEL_9ee46297a14740638b4d0f2d54d4e2f0",
            "value": "Dl Size...: 100%"
          }
        },
        "ce542284f08c4fdfb4b0797ff3ed3ded": {
          "model_module": "@jupyter-widgets/controls",
          "model_name": "FloatProgressModel",
          "model_module_version": "1.5.0",
          "state": {
            "_dom_classes": [],
            "_model_module": "@jupyter-widgets/controls",
            "_model_module_version": "1.5.0",
            "_model_name": "FloatProgressModel",
            "_view_count": null,
            "_view_module": "@jupyter-widgets/controls",
            "_view_module_version": "1.5.0",
            "_view_name": "ProgressView",
            "bar_style": "success",
            "description": "",
            "description_tooltip": null,
            "layout": "IPY_MODEL_0f8a52cf7ab74aa78f21977fce20ffcb",
            "max": 1,
            "min": 0,
            "orientation": "horizontal",
            "style": "IPY_MODEL_05db4ad2284c4768ab2e421210975b74",
            "value": 1
          }
        },
        "b163d9ed1a75499486d50ecac5634310": {
          "model_module": "@jupyter-widgets/controls",
          "model_name": "HTMLModel",
          "model_module_version": "1.5.0",
          "state": {
            "_dom_classes": [],
            "_model_module": "@jupyter-widgets/controls",
            "_model_module_version": "1.5.0",
            "_model_name": "HTMLModel",
            "_view_count": null,
            "_view_module": "@jupyter-widgets/controls",
            "_view_module_version": "1.5.0",
            "_view_name": "HTMLView",
            "description": "",
            "description_tooltip": null,
            "layout": "IPY_MODEL_1b95d6bf6a2f4cfa8f1ae96c506ab344",
            "placeholder": "​",
            "style": "IPY_MODEL_6a23f54d7a1b4a6d89742dae0b2446c0",
            "value": " 468/468 [01:03&lt;00:00, 31.70 MiB/s]"
          }
        },
        "ed5359c1772045a982c48633a21c9b95": {
          "model_module": "@jupyter-widgets/base",
          "model_name": "LayoutModel",
          "model_module_version": "1.2.0",
          "state": {
            "_model_module": "@jupyter-widgets/base",
            "_model_module_version": "1.2.0",
            "_model_name": "LayoutModel",
            "_view_count": null,
            "_view_module": "@jupyter-widgets/base",
            "_view_module_version": "1.2.0",
            "_view_name": "LayoutView",
            "align_content": null,
            "align_items": null,
            "align_self": null,
            "border": null,
            "bottom": null,
            "display": null,
            "flex": null,
            "flex_flow": null,
            "grid_area": null,
            "grid_auto_columns": null,
            "grid_auto_flow": null,
            "grid_auto_rows": null,
            "grid_column": null,
            "grid_gap": null,
            "grid_row": null,
            "grid_template_areas": null,
            "grid_template_columns": null,
            "grid_template_rows": null,
            "height": null,
            "justify_content": null,
            "justify_items": null,
            "left": null,
            "margin": null,
            "max_height": null,
            "max_width": null,
            "min_height": null,
            "min_width": null,
            "object_fit": null,
            "object_position": null,
            "order": null,
            "overflow": null,
            "overflow_x": null,
            "overflow_y": null,
            "padding": null,
            "right": null,
            "top": null,
            "visibility": null,
            "width": null
          }
        },
        "ebbfeb3189794829bb99215f7b321376": {
          "model_module": "@jupyter-widgets/base",
          "model_name": "LayoutModel",
          "model_module_version": "1.2.0",
          "state": {
            "_model_module": "@jupyter-widgets/base",
            "_model_module_version": "1.2.0",
            "_model_name": "LayoutModel",
            "_view_count": null,
            "_view_module": "@jupyter-widgets/base",
            "_view_module_version": "1.2.0",
            "_view_name": "LayoutView",
            "align_content": null,
            "align_items": null,
            "align_self": null,
            "border": null,
            "bottom": null,
            "display": null,
            "flex": null,
            "flex_flow": null,
            "grid_area": null,
            "grid_auto_columns": null,
            "grid_auto_flow": null,
            "grid_auto_rows": null,
            "grid_column": null,
            "grid_gap": null,
            "grid_row": null,
            "grid_template_areas": null,
            "grid_template_columns": null,
            "grid_template_rows": null,
            "height": null,
            "justify_content": null,
            "justify_items": null,
            "left": null,
            "margin": null,
            "max_height": null,
            "max_width": null,
            "min_height": null,
            "min_width": null,
            "object_fit": null,
            "object_position": null,
            "order": null,
            "overflow": null,
            "overflow_x": null,
            "overflow_y": null,
            "padding": null,
            "right": null,
            "top": null,
            "visibility": null,
            "width": null
          }
        },
        "9ee46297a14740638b4d0f2d54d4e2f0": {
          "model_module": "@jupyter-widgets/controls",
          "model_name": "DescriptionStyleModel",
          "model_module_version": "1.5.0",
          "state": {
            "_model_module": "@jupyter-widgets/controls",
            "_model_module_version": "1.5.0",
            "_model_name": "DescriptionStyleModel",
            "_view_count": null,
            "_view_module": "@jupyter-widgets/base",
            "_view_module_version": "1.2.0",
            "_view_name": "StyleView",
            "description_width": ""
          }
        },
        "0f8a52cf7ab74aa78f21977fce20ffcb": {
          "model_module": "@jupyter-widgets/base",
          "model_name": "LayoutModel",
          "model_module_version": "1.2.0",
          "state": {
            "_model_module": "@jupyter-widgets/base",
            "_model_module_version": "1.2.0",
            "_model_name": "LayoutModel",
            "_view_count": null,
            "_view_module": "@jupyter-widgets/base",
            "_view_module_version": "1.2.0",
            "_view_name": "LayoutView",
            "align_content": null,
            "align_items": null,
            "align_self": null,
            "border": null,
            "bottom": null,
            "display": null,
            "flex": null,
            "flex_flow": null,
            "grid_area": null,
            "grid_auto_columns": null,
            "grid_auto_flow": null,
            "grid_auto_rows": null,
            "grid_column": null,
            "grid_gap": null,
            "grid_row": null,
            "grid_template_areas": null,
            "grid_template_columns": null,
            "grid_template_rows": null,
            "height": null,
            "justify_content": null,
            "justify_items": null,
            "left": null,
            "margin": null,
            "max_height": null,
            "max_width": null,
            "min_height": null,
            "min_width": null,
            "object_fit": null,
            "object_position": null,
            "order": null,
            "overflow": null,
            "overflow_x": null,
            "overflow_y": null,
            "padding": null,
            "right": null,
            "top": null,
            "visibility": null,
            "width": "20px"
          }
        },
        "05db4ad2284c4768ab2e421210975b74": {
          "model_module": "@jupyter-widgets/controls",
          "model_name": "ProgressStyleModel",
          "model_module_version": "1.5.0",
          "state": {
            "_model_module": "@jupyter-widgets/controls",
            "_model_module_version": "1.5.0",
            "_model_name": "ProgressStyleModel",
            "_view_count": null,
            "_view_module": "@jupyter-widgets/base",
            "_view_module_version": "1.2.0",
            "_view_name": "StyleView",
            "bar_color": null,
            "description_width": ""
          }
        },
        "1b95d6bf6a2f4cfa8f1ae96c506ab344": {
          "model_module": "@jupyter-widgets/base",
          "model_name": "LayoutModel",
          "model_module_version": "1.2.0",
          "state": {
            "_model_module": "@jupyter-widgets/base",
            "_model_module_version": "1.2.0",
            "_model_name": "LayoutModel",
            "_view_count": null,
            "_view_module": "@jupyter-widgets/base",
            "_view_module_version": "1.2.0",
            "_view_name": "LayoutView",
            "align_content": null,
            "align_items": null,
            "align_self": null,
            "border": null,
            "bottom": null,
            "display": null,
            "flex": null,
            "flex_flow": null,
            "grid_area": null,
            "grid_auto_columns": null,
            "grid_auto_flow": null,
            "grid_auto_rows": null,
            "grid_column": null,
            "grid_gap": null,
            "grid_row": null,
            "grid_template_areas": null,
            "grid_template_columns": null,
            "grid_template_rows": null,
            "height": null,
            "justify_content": null,
            "justify_items": null,
            "left": null,
            "margin": null,
            "max_height": null,
            "max_width": null,
            "min_height": null,
            "min_width": null,
            "object_fit": null,
            "object_position": null,
            "order": null,
            "overflow": null,
            "overflow_x": null,
            "overflow_y": null,
            "padding": null,
            "right": null,
            "top": null,
            "visibility": null,
            "width": null
          }
        },
        "6a23f54d7a1b4a6d89742dae0b2446c0": {
          "model_module": "@jupyter-widgets/controls",
          "model_name": "DescriptionStyleModel",
          "model_module_version": "1.5.0",
          "state": {
            "_model_module": "@jupyter-widgets/controls",
            "_model_module_version": "1.5.0",
            "_model_name": "DescriptionStyleModel",
            "_view_count": null,
            "_view_module": "@jupyter-widgets/base",
            "_view_module_version": "1.2.0",
            "_view_name": "StyleView",
            "description_width": ""
          }
        },
        "fdb4baf9127e4c72902e95918f6af612": {
          "model_module": "@jupyter-widgets/controls",
          "model_name": "HBoxModel",
          "model_module_version": "1.5.0",
          "state": {
            "_dom_classes": [],
            "_model_module": "@jupyter-widgets/controls",
            "_model_module_version": "1.5.0",
            "_model_name": "HBoxModel",
            "_view_count": null,
            "_view_module": "@jupyter-widgets/controls",
            "_view_module_version": "1.5.0",
            "_view_name": "HBoxView",
            "box_style": "",
            "children": [
              "IPY_MODEL_a1e0a0c57d0347c7b8ef4a3d39d39876",
              "IPY_MODEL_aae93bde269f4a3eb2f4a0180100c825",
              "IPY_MODEL_1bf04d9ed76d4064b761ace440a3c723"
            ],
            "layout": "IPY_MODEL_becb427a504e480bbe4fde257f01b428"
          }
        },
        "a1e0a0c57d0347c7b8ef4a3d39d39876": {
          "model_module": "@jupyter-widgets/controls",
          "model_name": "HTMLModel",
          "model_module_version": "1.5.0",
          "state": {
            "_dom_classes": [],
            "_model_module": "@jupyter-widgets/controls",
            "_model_module_version": "1.5.0",
            "_model_name": "HTMLModel",
            "_view_count": null,
            "_view_module": "@jupyter-widgets/controls",
            "_view_module_version": "1.5.0",
            "_view_name": "HTMLView",
            "description": "",
            "description_tooltip": null,
            "layout": "IPY_MODEL_4279e0afc79b49919cb7d63da9eca7dd",
            "placeholder": "​",
            "style": "IPY_MODEL_95b59a4d9a624f0196d4b1b88fbc27d1",
            "value": "Extraction completed...: 100%"
          }
        },
        "aae93bde269f4a3eb2f4a0180100c825": {
          "model_module": "@jupyter-widgets/controls",
          "model_name": "FloatProgressModel",
          "model_module_version": "1.5.0",
          "state": {
            "_dom_classes": [],
            "_model_module": "@jupyter-widgets/controls",
            "_model_module_version": "1.5.0",
            "_model_name": "FloatProgressModel",
            "_view_count": null,
            "_view_module": "@jupyter-widgets/controls",
            "_view_module_version": "1.5.0",
            "_view_name": "ProgressView",
            "bar_style": "success",
            "description": "",
            "description_tooltip": null,
            "layout": "IPY_MODEL_da4fc2034f5049edaa58a0f1b65d78a3",
            "max": 1,
            "min": 0,
            "orientation": "horizontal",
            "style": "IPY_MODEL_52fb502ff653472d9b7efc521a609d36",
            "value": 1
          }
        },
        "1bf04d9ed76d4064b761ace440a3c723": {
          "model_module": "@jupyter-widgets/controls",
          "model_name": "HTMLModel",
          "model_module_version": "1.5.0",
          "state": {
            "_dom_classes": [],
            "_model_module": "@jupyter-widgets/controls",
            "_model_module_version": "1.5.0",
            "_model_name": "HTMLModel",
            "_view_count": null,
            "_view_module": "@jupyter-widgets/controls",
            "_view_module_version": "1.5.0",
            "_view_name": "HTMLView",
            "description": "",
            "description_tooltip": null,
            "layout": "IPY_MODEL_f67e41ff436e44d486a8778c4e1366d0",
            "placeholder": "​",
            "style": "IPY_MODEL_4d6b189bcf2e4a67a8e4445cadbeaaa1",
            "value": " 17509/17509 [01:03&lt;00:00, 1093.54 file/s]"
          }
        },
        "becb427a504e480bbe4fde257f01b428": {
          "model_module": "@jupyter-widgets/base",
          "model_name": "LayoutModel",
          "model_module_version": "1.2.0",
          "state": {
            "_model_module": "@jupyter-widgets/base",
            "_model_module_version": "1.2.0",
            "_model_name": "LayoutModel",
            "_view_count": null,
            "_view_module": "@jupyter-widgets/base",
            "_view_module_version": "1.2.0",
            "_view_name": "LayoutView",
            "align_content": null,
            "align_items": null,
            "align_self": null,
            "border": null,
            "bottom": null,
            "display": null,
            "flex": null,
            "flex_flow": null,
            "grid_area": null,
            "grid_auto_columns": null,
            "grid_auto_flow": null,
            "grid_auto_rows": null,
            "grid_column": null,
            "grid_gap": null,
            "grid_row": null,
            "grid_template_areas": null,
            "grid_template_columns": null,
            "grid_template_rows": null,
            "height": null,
            "justify_content": null,
            "justify_items": null,
            "left": null,
            "margin": null,
            "max_height": null,
            "max_width": null,
            "min_height": null,
            "min_width": null,
            "object_fit": null,
            "object_position": null,
            "order": null,
            "overflow": null,
            "overflow_x": null,
            "overflow_y": null,
            "padding": null,
            "right": null,
            "top": null,
            "visibility": null,
            "width": null
          }
        },
        "4279e0afc79b49919cb7d63da9eca7dd": {
          "model_module": "@jupyter-widgets/base",
          "model_name": "LayoutModel",
          "model_module_version": "1.2.0",
          "state": {
            "_model_module": "@jupyter-widgets/base",
            "_model_module_version": "1.2.0",
            "_model_name": "LayoutModel",
            "_view_count": null,
            "_view_module": "@jupyter-widgets/base",
            "_view_module_version": "1.2.0",
            "_view_name": "LayoutView",
            "align_content": null,
            "align_items": null,
            "align_self": null,
            "border": null,
            "bottom": null,
            "display": null,
            "flex": null,
            "flex_flow": null,
            "grid_area": null,
            "grid_auto_columns": null,
            "grid_auto_flow": null,
            "grid_auto_rows": null,
            "grid_column": null,
            "grid_gap": null,
            "grid_row": null,
            "grid_template_areas": null,
            "grid_template_columns": null,
            "grid_template_rows": null,
            "height": null,
            "justify_content": null,
            "justify_items": null,
            "left": null,
            "margin": null,
            "max_height": null,
            "max_width": null,
            "min_height": null,
            "min_width": null,
            "object_fit": null,
            "object_position": null,
            "order": null,
            "overflow": null,
            "overflow_x": null,
            "overflow_y": null,
            "padding": null,
            "right": null,
            "top": null,
            "visibility": null,
            "width": null
          }
        },
        "95b59a4d9a624f0196d4b1b88fbc27d1": {
          "model_module": "@jupyter-widgets/controls",
          "model_name": "DescriptionStyleModel",
          "model_module_version": "1.5.0",
          "state": {
            "_model_module": "@jupyter-widgets/controls",
            "_model_module_version": "1.5.0",
            "_model_name": "DescriptionStyleModel",
            "_view_count": null,
            "_view_module": "@jupyter-widgets/base",
            "_view_module_version": "1.2.0",
            "_view_name": "StyleView",
            "description_width": ""
          }
        },
        "da4fc2034f5049edaa58a0f1b65d78a3": {
          "model_module": "@jupyter-widgets/base",
          "model_name": "LayoutModel",
          "model_module_version": "1.2.0",
          "state": {
            "_model_module": "@jupyter-widgets/base",
            "_model_module_version": "1.2.0",
            "_model_name": "LayoutModel",
            "_view_count": null,
            "_view_module": "@jupyter-widgets/base",
            "_view_module_version": "1.2.0",
            "_view_name": "LayoutView",
            "align_content": null,
            "align_items": null,
            "align_self": null,
            "border": null,
            "bottom": null,
            "display": null,
            "flex": null,
            "flex_flow": null,
            "grid_area": null,
            "grid_auto_columns": null,
            "grid_auto_flow": null,
            "grid_auto_rows": null,
            "grid_column": null,
            "grid_gap": null,
            "grid_row": null,
            "grid_template_areas": null,
            "grid_template_columns": null,
            "grid_template_rows": null,
            "height": null,
            "justify_content": null,
            "justify_items": null,
            "left": null,
            "margin": null,
            "max_height": null,
            "max_width": null,
            "min_height": null,
            "min_width": null,
            "object_fit": null,
            "object_position": null,
            "order": null,
            "overflow": null,
            "overflow_x": null,
            "overflow_y": null,
            "padding": null,
            "right": null,
            "top": null,
            "visibility": null,
            "width": "20px"
          }
        },
        "52fb502ff653472d9b7efc521a609d36": {
          "model_module": "@jupyter-widgets/controls",
          "model_name": "ProgressStyleModel",
          "model_module_version": "1.5.0",
          "state": {
            "_model_module": "@jupyter-widgets/controls",
            "_model_module_version": "1.5.0",
            "_model_name": "ProgressStyleModel",
            "_view_count": null,
            "_view_module": "@jupyter-widgets/base",
            "_view_module_version": "1.2.0",
            "_view_name": "StyleView",
            "bar_color": null,
            "description_width": ""
          }
        },
        "f67e41ff436e44d486a8778c4e1366d0": {
          "model_module": "@jupyter-widgets/base",
          "model_name": "LayoutModel",
          "model_module_version": "1.2.0",
          "state": {
            "_model_module": "@jupyter-widgets/base",
            "_model_module_version": "1.2.0",
            "_model_name": "LayoutModel",
            "_view_count": null,
            "_view_module": "@jupyter-widgets/base",
            "_view_module_version": "1.2.0",
            "_view_name": "LayoutView",
            "align_content": null,
            "align_items": null,
            "align_self": null,
            "border": null,
            "bottom": null,
            "display": null,
            "flex": null,
            "flex_flow": null,
            "grid_area": null,
            "grid_auto_columns": null,
            "grid_auto_flow": null,
            "grid_auto_rows": null,
            "grid_column": null,
            "grid_gap": null,
            "grid_row": null,
            "grid_template_areas": null,
            "grid_template_columns": null,
            "grid_template_rows": null,
            "height": null,
            "justify_content": null,
            "justify_items": null,
            "left": null,
            "margin": null,
            "max_height": null,
            "max_width": null,
            "min_height": null,
            "min_width": null,
            "object_fit": null,
            "object_position": null,
            "order": null,
            "overflow": null,
            "overflow_x": null,
            "overflow_y": null,
            "padding": null,
            "right": null,
            "top": null,
            "visibility": null,
            "width": null
          }
        },
        "4d6b189bcf2e4a67a8e4445cadbeaaa1": {
          "model_module": "@jupyter-widgets/controls",
          "model_name": "DescriptionStyleModel",
          "model_module_version": "1.5.0",
          "state": {
            "_model_module": "@jupyter-widgets/controls",
            "_model_module_version": "1.5.0",
            "_model_name": "DescriptionStyleModel",
            "_view_count": null,
            "_view_module": "@jupyter-widgets/base",
            "_view_module_version": "1.2.0",
            "_view_name": "StyleView",
            "description_width": ""
          }
        },
        "f0360609e465413ebca9ded0f8bbe75b": {
          "model_module": "@jupyter-widgets/controls",
          "model_name": "HBoxModel",
          "model_module_version": "1.5.0",
          "state": {
            "_dom_classes": [],
            "_model_module": "@jupyter-widgets/controls",
            "_model_module_version": "1.5.0",
            "_model_name": "HBoxModel",
            "_view_count": null,
            "_view_module": "@jupyter-widgets/controls",
            "_view_module_version": "1.5.0",
            "_view_name": "HBoxView",
            "box_style": "",
            "children": [
              "IPY_MODEL_dbc843deac4a499298078e84d55c3370",
              "IPY_MODEL_e5ef6fecd9ef44ecb0c989e33ceff901",
              "IPY_MODEL_fabba48ce985498cab147173b12634c0"
            ],
            "layout": "IPY_MODEL_055262a95c6e473ead4b683157eb3d88"
          }
        },
        "dbc843deac4a499298078e84d55c3370": {
          "model_module": "@jupyter-widgets/controls",
          "model_name": "HTMLModel",
          "model_module_version": "1.5.0",
          "state": {
            "_dom_classes": [],
            "_model_module": "@jupyter-widgets/controls",
            "_model_module_version": "1.5.0",
            "_model_name": "HTMLModel",
            "_view_count": null,
            "_view_module": "@jupyter-widgets/controls",
            "_view_module_version": "1.5.0",
            "_view_name": "HTMLView",
            "description": "",
            "description_tooltip": null,
            "layout": "IPY_MODEL_373837a2143d41fabbb947c1c6294bfe",
            "placeholder": "​",
            "style": "IPY_MODEL_da315145be7f4f94a0e715eabd3fc660",
            "value": "Generating splits...: 100%"
          }
        },
        "e5ef6fecd9ef44ecb0c989e33ceff901": {
          "model_module": "@jupyter-widgets/controls",
          "model_name": "FloatProgressModel",
          "model_module_version": "1.5.0",
          "state": {
            "_dom_classes": [],
            "_model_module": "@jupyter-widgets/controls",
            "_model_module_version": "1.5.0",
            "_model_name": "FloatProgressModel",
            "_view_count": null,
            "_view_module": "@jupyter-widgets/controls",
            "_view_module_version": "1.5.0",
            "_view_name": "ProgressView",
            "bar_style": "",
            "description": "",
            "description_tooltip": null,
            "layout": "IPY_MODEL_1b42f44518954317922101a2d3ea603d",
            "max": 1,
            "min": 0,
            "orientation": "horizontal",
            "style": "IPY_MODEL_1645a58d96674222b1ce9a51d221d449",
            "value": 1
          }
        },
        "fabba48ce985498cab147173b12634c0": {
          "model_module": "@jupyter-widgets/controls",
          "model_name": "HTMLModel",
          "model_module_version": "1.5.0",
          "state": {
            "_dom_classes": [],
            "_model_module": "@jupyter-widgets/controls",
            "_model_module_version": "1.5.0",
            "_model_name": "HTMLModel",
            "_view_count": null,
            "_view_module": "@jupyter-widgets/controls",
            "_view_module_version": "1.5.0",
            "_view_name": "HTMLView",
            "description": "",
            "description_tooltip": null,
            "layout": "IPY_MODEL_403c2d7be2374f1c978d5ff51ca088af",
            "placeholder": "​",
            "style": "IPY_MODEL_4d426c85a9244a4384a31301a29b5201",
            "value": " 1/1 [00:07&lt;00:00,  7.57s/ splits]"
          }
        },
        "055262a95c6e473ead4b683157eb3d88": {
          "model_module": "@jupyter-widgets/base",
          "model_name": "LayoutModel",
          "model_module_version": "1.2.0",
          "state": {
            "_model_module": "@jupyter-widgets/base",
            "_model_module_version": "1.2.0",
            "_model_name": "LayoutModel",
            "_view_count": null,
            "_view_module": "@jupyter-widgets/base",
            "_view_module_version": "1.2.0",
            "_view_name": "LayoutView",
            "align_content": null,
            "align_items": null,
            "align_self": null,
            "border": null,
            "bottom": null,
            "display": null,
            "flex": null,
            "flex_flow": null,
            "grid_area": null,
            "grid_auto_columns": null,
            "grid_auto_flow": null,
            "grid_auto_rows": null,
            "grid_column": null,
            "grid_gap": null,
            "grid_row": null,
            "grid_template_areas": null,
            "grid_template_columns": null,
            "grid_template_rows": null,
            "height": null,
            "justify_content": null,
            "justify_items": null,
            "left": null,
            "margin": null,
            "max_height": null,
            "max_width": null,
            "min_height": null,
            "min_width": null,
            "object_fit": null,
            "object_position": null,
            "order": null,
            "overflow": null,
            "overflow_x": null,
            "overflow_y": null,
            "padding": null,
            "right": null,
            "top": null,
            "visibility": "hidden",
            "width": null
          }
        },
        "373837a2143d41fabbb947c1c6294bfe": {
          "model_module": "@jupyter-widgets/base",
          "model_name": "LayoutModel",
          "model_module_version": "1.2.0",
          "state": {
            "_model_module": "@jupyter-widgets/base",
            "_model_module_version": "1.2.0",
            "_model_name": "LayoutModel",
            "_view_count": null,
            "_view_module": "@jupyter-widgets/base",
            "_view_module_version": "1.2.0",
            "_view_name": "LayoutView",
            "align_content": null,
            "align_items": null,
            "align_self": null,
            "border": null,
            "bottom": null,
            "display": null,
            "flex": null,
            "flex_flow": null,
            "grid_area": null,
            "grid_auto_columns": null,
            "grid_auto_flow": null,
            "grid_auto_rows": null,
            "grid_column": null,
            "grid_gap": null,
            "grid_row": null,
            "grid_template_areas": null,
            "grid_template_columns": null,
            "grid_template_rows": null,
            "height": null,
            "justify_content": null,
            "justify_items": null,
            "left": null,
            "margin": null,
            "max_height": null,
            "max_width": null,
            "min_height": null,
            "min_width": null,
            "object_fit": null,
            "object_position": null,
            "order": null,
            "overflow": null,
            "overflow_x": null,
            "overflow_y": null,
            "padding": null,
            "right": null,
            "top": null,
            "visibility": null,
            "width": null
          }
        },
        "da315145be7f4f94a0e715eabd3fc660": {
          "model_module": "@jupyter-widgets/controls",
          "model_name": "DescriptionStyleModel",
          "model_module_version": "1.5.0",
          "state": {
            "_model_module": "@jupyter-widgets/controls",
            "_model_module_version": "1.5.0",
            "_model_name": "DescriptionStyleModel",
            "_view_count": null,
            "_view_module": "@jupyter-widgets/base",
            "_view_module_version": "1.2.0",
            "_view_name": "StyleView",
            "description_width": ""
          }
        },
        "1b42f44518954317922101a2d3ea603d": {
          "model_module": "@jupyter-widgets/base",
          "model_name": "LayoutModel",
          "model_module_version": "1.2.0",
          "state": {
            "_model_module": "@jupyter-widgets/base",
            "_model_module_version": "1.2.0",
            "_model_name": "LayoutModel",
            "_view_count": null,
            "_view_module": "@jupyter-widgets/base",
            "_view_module_version": "1.2.0",
            "_view_name": "LayoutView",
            "align_content": null,
            "align_items": null,
            "align_self": null,
            "border": null,
            "bottom": null,
            "display": null,
            "flex": null,
            "flex_flow": null,
            "grid_area": null,
            "grid_auto_columns": null,
            "grid_auto_flow": null,
            "grid_auto_rows": null,
            "grid_column": null,
            "grid_gap": null,
            "grid_row": null,
            "grid_template_areas": null,
            "grid_template_columns": null,
            "grid_template_rows": null,
            "height": null,
            "justify_content": null,
            "justify_items": null,
            "left": null,
            "margin": null,
            "max_height": null,
            "max_width": null,
            "min_height": null,
            "min_width": null,
            "object_fit": null,
            "object_position": null,
            "order": null,
            "overflow": null,
            "overflow_x": null,
            "overflow_y": null,
            "padding": null,
            "right": null,
            "top": null,
            "visibility": null,
            "width": null
          }
        },
        "1645a58d96674222b1ce9a51d221d449": {
          "model_module": "@jupyter-widgets/controls",
          "model_name": "ProgressStyleModel",
          "model_module_version": "1.5.0",
          "state": {
            "_model_module": "@jupyter-widgets/controls",
            "_model_module_version": "1.5.0",
            "_model_name": "ProgressStyleModel",
            "_view_count": null,
            "_view_module": "@jupyter-widgets/base",
            "_view_module_version": "1.2.0",
            "_view_name": "StyleView",
            "bar_color": null,
            "description_width": ""
          }
        },
        "403c2d7be2374f1c978d5ff51ca088af": {
          "model_module": "@jupyter-widgets/base",
          "model_name": "LayoutModel",
          "model_module_version": "1.2.0",
          "state": {
            "_model_module": "@jupyter-widgets/base",
            "_model_module_version": "1.2.0",
            "_model_name": "LayoutModel",
            "_view_count": null,
            "_view_module": "@jupyter-widgets/base",
            "_view_module_version": "1.2.0",
            "_view_name": "LayoutView",
            "align_content": null,
            "align_items": null,
            "align_self": null,
            "border": null,
            "bottom": null,
            "display": null,
            "flex": null,
            "flex_flow": null,
            "grid_area": null,
            "grid_auto_columns": null,
            "grid_auto_flow": null,
            "grid_auto_rows": null,
            "grid_column": null,
            "grid_gap": null,
            "grid_row": null,
            "grid_template_areas": null,
            "grid_template_columns": null,
            "grid_template_rows": null,
            "height": null,
            "justify_content": null,
            "justify_items": null,
            "left": null,
            "margin": null,
            "max_height": null,
            "max_width": null,
            "min_height": null,
            "min_width": null,
            "object_fit": null,
            "object_position": null,
            "order": null,
            "overflow": null,
            "overflow_x": null,
            "overflow_y": null,
            "padding": null,
            "right": null,
            "top": null,
            "visibility": null,
            "width": null
          }
        },
        "4d426c85a9244a4384a31301a29b5201": {
          "model_module": "@jupyter-widgets/controls",
          "model_name": "DescriptionStyleModel",
          "model_module_version": "1.5.0",
          "state": {
            "_model_module": "@jupyter-widgets/controls",
            "_model_module_version": "1.5.0",
            "_model_name": "DescriptionStyleModel",
            "_view_count": null,
            "_view_module": "@jupyter-widgets/base",
            "_view_module_version": "1.2.0",
            "_view_name": "StyleView",
            "description_width": ""
          }
        },
        "842f0e59e6904c448298330ad42f5a4f": {
          "model_module": "@jupyter-widgets/controls",
          "model_name": "HBoxModel",
          "model_module_version": "1.5.0",
          "state": {
            "_dom_classes": [],
            "_model_module": "@jupyter-widgets/controls",
            "_model_module_version": "1.5.0",
            "_model_name": "HBoxModel",
            "_view_count": null,
            "_view_module": "@jupyter-widgets/controls",
            "_view_module_version": "1.5.0",
            "_view_name": "HBoxView",
            "box_style": "",
            "children": [
              "IPY_MODEL_4e3519707ca343d8ae918e33bd9699a8",
              "IPY_MODEL_c281fea74b2b43749dbf77e74a1007ce",
              "IPY_MODEL_82c7b839a1684dc08cb394acf83ba06f"
            ],
            "layout": "IPY_MODEL_1beee76483414509b4d82f8fb1da7744"
          }
        },
        "4e3519707ca343d8ae918e33bd9699a8": {
          "model_module": "@jupyter-widgets/controls",
          "model_name": "HTMLModel",
          "model_module_version": "1.5.0",
          "state": {
            "_dom_classes": [],
            "_model_module": "@jupyter-widgets/controls",
            "_model_module_version": "1.5.0",
            "_model_name": "HTMLModel",
            "_view_count": null,
            "_view_module": "@jupyter-widgets/controls",
            "_view_module_version": "1.5.0",
            "_view_name": "HTMLView",
            "description": "",
            "description_tooltip": null,
            "layout": "IPY_MODEL_ba10f3cc058347729d395229964b6ea1",
            "placeholder": "​",
            "style": "IPY_MODEL_56d21e1ba3da42e69bb197361d57be7b",
            "value": "Generating train examples...:  99%"
          }
        },
        "c281fea74b2b43749dbf77e74a1007ce": {
          "model_module": "@jupyter-widgets/controls",
          "model_name": "FloatProgressModel",
          "model_module_version": "1.5.0",
          "state": {
            "_dom_classes": [],
            "_model_module": "@jupyter-widgets/controls",
            "_model_module_version": "1.5.0",
            "_model_name": "FloatProgressModel",
            "_view_count": null,
            "_view_module": "@jupyter-widgets/controls",
            "_view_module_version": "1.5.0",
            "_view_name": "ProgressView",
            "bar_style": "",
            "description": "",
            "description_tooltip": null,
            "layout": "IPY_MODEL_e942fb25e35c452098041d9d8e7e1f67",
            "max": 17509,
            "min": 0,
            "orientation": "horizontal",
            "style": "IPY_MODEL_3169a9094ba34006a235db5096466e37",
            "value": 17509
          }
        },
        "82c7b839a1684dc08cb394acf83ba06f": {
          "model_module": "@jupyter-widgets/controls",
          "model_name": "HTMLModel",
          "model_module_version": "1.5.0",
          "state": {
            "_dom_classes": [],
            "_model_module": "@jupyter-widgets/controls",
            "_model_module_version": "1.5.0",
            "_model_name": "HTMLModel",
            "_view_count": null,
            "_view_module": "@jupyter-widgets/controls",
            "_view_module_version": "1.5.0",
            "_view_name": "HTMLView",
            "description": "",
            "description_tooltip": null,
            "layout": "IPY_MODEL_ba89fc5a57ae459e92a1aa15a0af18c3",
            "placeholder": "​",
            "style": "IPY_MODEL_4baf6b4a18974d98b5d6d444667b6060",
            "value": " 17248/17509 [00:06&lt;00:00, 2951.78 examples/s]"
          }
        },
        "1beee76483414509b4d82f8fb1da7744": {
          "model_module": "@jupyter-widgets/base",
          "model_name": "LayoutModel",
          "model_module_version": "1.2.0",
          "state": {
            "_model_module": "@jupyter-widgets/base",
            "_model_module_version": "1.2.0",
            "_model_name": "LayoutModel",
            "_view_count": null,
            "_view_module": "@jupyter-widgets/base",
            "_view_module_version": "1.2.0",
            "_view_name": "LayoutView",
            "align_content": null,
            "align_items": null,
            "align_self": null,
            "border": null,
            "bottom": null,
            "display": null,
            "flex": null,
            "flex_flow": null,
            "grid_area": null,
            "grid_auto_columns": null,
            "grid_auto_flow": null,
            "grid_auto_rows": null,
            "grid_column": null,
            "grid_gap": null,
            "grid_row": null,
            "grid_template_areas": null,
            "grid_template_columns": null,
            "grid_template_rows": null,
            "height": null,
            "justify_content": null,
            "justify_items": null,
            "left": null,
            "margin": null,
            "max_height": null,
            "max_width": null,
            "min_height": null,
            "min_width": null,
            "object_fit": null,
            "object_position": null,
            "order": null,
            "overflow": null,
            "overflow_x": null,
            "overflow_y": null,
            "padding": null,
            "right": null,
            "top": null,
            "visibility": "hidden",
            "width": null
          }
        },
        "ba10f3cc058347729d395229964b6ea1": {
          "model_module": "@jupyter-widgets/base",
          "model_name": "LayoutModel",
          "model_module_version": "1.2.0",
          "state": {
            "_model_module": "@jupyter-widgets/base",
            "_model_module_version": "1.2.0",
            "_model_name": "LayoutModel",
            "_view_count": null,
            "_view_module": "@jupyter-widgets/base",
            "_view_module_version": "1.2.0",
            "_view_name": "LayoutView",
            "align_content": null,
            "align_items": null,
            "align_self": null,
            "border": null,
            "bottom": null,
            "display": null,
            "flex": null,
            "flex_flow": null,
            "grid_area": null,
            "grid_auto_columns": null,
            "grid_auto_flow": null,
            "grid_auto_rows": null,
            "grid_column": null,
            "grid_gap": null,
            "grid_row": null,
            "grid_template_areas": null,
            "grid_template_columns": null,
            "grid_template_rows": null,
            "height": null,
            "justify_content": null,
            "justify_items": null,
            "left": null,
            "margin": null,
            "max_height": null,
            "max_width": null,
            "min_height": null,
            "min_width": null,
            "object_fit": null,
            "object_position": null,
            "order": null,
            "overflow": null,
            "overflow_x": null,
            "overflow_y": null,
            "padding": null,
            "right": null,
            "top": null,
            "visibility": null,
            "width": null
          }
        },
        "56d21e1ba3da42e69bb197361d57be7b": {
          "model_module": "@jupyter-widgets/controls",
          "model_name": "DescriptionStyleModel",
          "model_module_version": "1.5.0",
          "state": {
            "_model_module": "@jupyter-widgets/controls",
            "_model_module_version": "1.5.0",
            "_model_name": "DescriptionStyleModel",
            "_view_count": null,
            "_view_module": "@jupyter-widgets/base",
            "_view_module_version": "1.2.0",
            "_view_name": "StyleView",
            "description_width": ""
          }
        },
        "e942fb25e35c452098041d9d8e7e1f67": {
          "model_module": "@jupyter-widgets/base",
          "model_name": "LayoutModel",
          "model_module_version": "1.2.0",
          "state": {
            "_model_module": "@jupyter-widgets/base",
            "_model_module_version": "1.2.0",
            "_model_name": "LayoutModel",
            "_view_count": null,
            "_view_module": "@jupyter-widgets/base",
            "_view_module_version": "1.2.0",
            "_view_name": "LayoutView",
            "align_content": null,
            "align_items": null,
            "align_self": null,
            "border": null,
            "bottom": null,
            "display": null,
            "flex": null,
            "flex_flow": null,
            "grid_area": null,
            "grid_auto_columns": null,
            "grid_auto_flow": null,
            "grid_auto_rows": null,
            "grid_column": null,
            "grid_gap": null,
            "grid_row": null,
            "grid_template_areas": null,
            "grid_template_columns": null,
            "grid_template_rows": null,
            "height": null,
            "justify_content": null,
            "justify_items": null,
            "left": null,
            "margin": null,
            "max_height": null,
            "max_width": null,
            "min_height": null,
            "min_width": null,
            "object_fit": null,
            "object_position": null,
            "order": null,
            "overflow": null,
            "overflow_x": null,
            "overflow_y": null,
            "padding": null,
            "right": null,
            "top": null,
            "visibility": null,
            "width": null
          }
        },
        "3169a9094ba34006a235db5096466e37": {
          "model_module": "@jupyter-widgets/controls",
          "model_name": "ProgressStyleModel",
          "model_module_version": "1.5.0",
          "state": {
            "_model_module": "@jupyter-widgets/controls",
            "_model_module_version": "1.5.0",
            "_model_name": "ProgressStyleModel",
            "_view_count": null,
            "_view_module": "@jupyter-widgets/base",
            "_view_module_version": "1.2.0",
            "_view_name": "StyleView",
            "bar_color": null,
            "description_width": ""
          }
        },
        "ba89fc5a57ae459e92a1aa15a0af18c3": {
          "model_module": "@jupyter-widgets/base",
          "model_name": "LayoutModel",
          "model_module_version": "1.2.0",
          "state": {
            "_model_module": "@jupyter-widgets/base",
            "_model_module_version": "1.2.0",
            "_model_name": "LayoutModel",
            "_view_count": null,
            "_view_module": "@jupyter-widgets/base",
            "_view_module_version": "1.2.0",
            "_view_name": "LayoutView",
            "align_content": null,
            "align_items": null,
            "align_self": null,
            "border": null,
            "bottom": null,
            "display": null,
            "flex": null,
            "flex_flow": null,
            "grid_area": null,
            "grid_auto_columns": null,
            "grid_auto_flow": null,
            "grid_auto_rows": null,
            "grid_column": null,
            "grid_gap": null,
            "grid_row": null,
            "grid_template_areas": null,
            "grid_template_columns": null,
            "grid_template_rows": null,
            "height": null,
            "justify_content": null,
            "justify_items": null,
            "left": null,
            "margin": null,
            "max_height": null,
            "max_width": null,
            "min_height": null,
            "min_width": null,
            "object_fit": null,
            "object_position": null,
            "order": null,
            "overflow": null,
            "overflow_x": null,
            "overflow_y": null,
            "padding": null,
            "right": null,
            "top": null,
            "visibility": null,
            "width": null
          }
        },
        "4baf6b4a18974d98b5d6d444667b6060": {
          "model_module": "@jupyter-widgets/controls",
          "model_name": "DescriptionStyleModel",
          "model_module_version": "1.5.0",
          "state": {
            "_model_module": "@jupyter-widgets/controls",
            "_model_module_version": "1.5.0",
            "_model_name": "DescriptionStyleModel",
            "_view_count": null,
            "_view_module": "@jupyter-widgets/base",
            "_view_module_version": "1.2.0",
            "_view_name": "StyleView",
            "description_width": ""
          }
        },
        "edb5a0fe396949af8579cf6da137e6bb": {
          "model_module": "@jupyter-widgets/controls",
          "model_name": "HBoxModel",
          "model_module_version": "1.5.0",
          "state": {
            "_dom_classes": [],
            "_model_module": "@jupyter-widgets/controls",
            "_model_module_version": "1.5.0",
            "_model_name": "HBoxModel",
            "_view_count": null,
            "_view_module": "@jupyter-widgets/controls",
            "_view_module_version": "1.5.0",
            "_view_name": "HBoxView",
            "box_style": "",
            "children": [
              "IPY_MODEL_3e58b7211f6d4b629613376223d038fb",
              "IPY_MODEL_03640213e9444835b112c2d8d584596a",
              "IPY_MODEL_4bfc455741c5425f83f27924315d344f"
            ],
            "layout": "IPY_MODEL_bc7ea9aad3714a21920b1bb620d91213"
          }
        },
        "3e58b7211f6d4b629613376223d038fb": {
          "model_module": "@jupyter-widgets/controls",
          "model_name": "HTMLModel",
          "model_module_version": "1.5.0",
          "state": {
            "_dom_classes": [],
            "_model_module": "@jupyter-widgets/controls",
            "_model_module_version": "1.5.0",
            "_model_name": "HTMLModel",
            "_view_count": null,
            "_view_module": "@jupyter-widgets/controls",
            "_view_module_version": "1.5.0",
            "_view_name": "HTMLView",
            "description": "",
            "description_tooltip": null,
            "layout": "IPY_MODEL_f956df7ba80144b584cea5ccf4032d49",
            "placeholder": "​",
            "style": "IPY_MODEL_f31f5632b5bc43828419198b6423d44d",
            "value": "Shuffling /root/tensorflow_datasets/deep_weeds/3.0.0.incompleteMBCW5B/deep_weeds-train.tfrecord*...:  98%"
          }
        },
        "03640213e9444835b112c2d8d584596a": {
          "model_module": "@jupyter-widgets/controls",
          "model_name": "FloatProgressModel",
          "model_module_version": "1.5.0",
          "state": {
            "_dom_classes": [],
            "_model_module": "@jupyter-widgets/controls",
            "_model_module_version": "1.5.0",
            "_model_name": "FloatProgressModel",
            "_view_count": null,
            "_view_module": "@jupyter-widgets/controls",
            "_view_module_version": "1.5.0",
            "_view_name": "ProgressView",
            "bar_style": "",
            "description": "",
            "description_tooltip": null,
            "layout": "IPY_MODEL_9eb4f440aa884669930c9eb6177d6b38",
            "max": 17509,
            "min": 0,
            "orientation": "horizontal",
            "style": "IPY_MODEL_458f1865551c42d38cf87fbc27faa662",
            "value": 17509
          }
        },
        "4bfc455741c5425f83f27924315d344f": {
          "model_module": "@jupyter-widgets/controls",
          "model_name": "HTMLModel",
          "model_module_version": "1.5.0",
          "state": {
            "_dom_classes": [],
            "_model_module": "@jupyter-widgets/controls",
            "_model_module_version": "1.5.0",
            "_model_name": "HTMLModel",
            "_view_count": null,
            "_view_module": "@jupyter-widgets/controls",
            "_view_module_version": "1.5.0",
            "_view_name": "HTMLView",
            "description": "",
            "description_tooltip": null,
            "layout": "IPY_MODEL_16a7a9f318c5405ab9b1c5ac95e35609",
            "placeholder": "​",
            "style": "IPY_MODEL_0873690cc54a48b7bd455abf61835cf2",
            "value": " 17171/17509 [00:01&lt;00:00, 9140.18 examples/s]"
          }
        },
        "bc7ea9aad3714a21920b1bb620d91213": {
          "model_module": "@jupyter-widgets/base",
          "model_name": "LayoutModel",
          "model_module_version": "1.2.0",
          "state": {
            "_model_module": "@jupyter-widgets/base",
            "_model_module_version": "1.2.0",
            "_model_name": "LayoutModel",
            "_view_count": null,
            "_view_module": "@jupyter-widgets/base",
            "_view_module_version": "1.2.0",
            "_view_name": "LayoutView",
            "align_content": null,
            "align_items": null,
            "align_self": null,
            "border": null,
            "bottom": null,
            "display": null,
            "flex": null,
            "flex_flow": null,
            "grid_area": null,
            "grid_auto_columns": null,
            "grid_auto_flow": null,
            "grid_auto_rows": null,
            "grid_column": null,
            "grid_gap": null,
            "grid_row": null,
            "grid_template_areas": null,
            "grid_template_columns": null,
            "grid_template_rows": null,
            "height": null,
            "justify_content": null,
            "justify_items": null,
            "left": null,
            "margin": null,
            "max_height": null,
            "max_width": null,
            "min_height": null,
            "min_width": null,
            "object_fit": null,
            "object_position": null,
            "order": null,
            "overflow": null,
            "overflow_x": null,
            "overflow_y": null,
            "padding": null,
            "right": null,
            "top": null,
            "visibility": "hidden",
            "width": null
          }
        },
        "f956df7ba80144b584cea5ccf4032d49": {
          "model_module": "@jupyter-widgets/base",
          "model_name": "LayoutModel",
          "model_module_version": "1.2.0",
          "state": {
            "_model_module": "@jupyter-widgets/base",
            "_model_module_version": "1.2.0",
            "_model_name": "LayoutModel",
            "_view_count": null,
            "_view_module": "@jupyter-widgets/base",
            "_view_module_version": "1.2.0",
            "_view_name": "LayoutView",
            "align_content": null,
            "align_items": null,
            "align_self": null,
            "border": null,
            "bottom": null,
            "display": null,
            "flex": null,
            "flex_flow": null,
            "grid_area": null,
            "grid_auto_columns": null,
            "grid_auto_flow": null,
            "grid_auto_rows": null,
            "grid_column": null,
            "grid_gap": null,
            "grid_row": null,
            "grid_template_areas": null,
            "grid_template_columns": null,
            "grid_template_rows": null,
            "height": null,
            "justify_content": null,
            "justify_items": null,
            "left": null,
            "margin": null,
            "max_height": null,
            "max_width": null,
            "min_height": null,
            "min_width": null,
            "object_fit": null,
            "object_position": null,
            "order": null,
            "overflow": null,
            "overflow_x": null,
            "overflow_y": null,
            "padding": null,
            "right": null,
            "top": null,
            "visibility": null,
            "width": null
          }
        },
        "f31f5632b5bc43828419198b6423d44d": {
          "model_module": "@jupyter-widgets/controls",
          "model_name": "DescriptionStyleModel",
          "model_module_version": "1.5.0",
          "state": {
            "_model_module": "@jupyter-widgets/controls",
            "_model_module_version": "1.5.0",
            "_model_name": "DescriptionStyleModel",
            "_view_count": null,
            "_view_module": "@jupyter-widgets/base",
            "_view_module_version": "1.2.0",
            "_view_name": "StyleView",
            "description_width": ""
          }
        },
        "9eb4f440aa884669930c9eb6177d6b38": {
          "model_module": "@jupyter-widgets/base",
          "model_name": "LayoutModel",
          "model_module_version": "1.2.0",
          "state": {
            "_model_module": "@jupyter-widgets/base",
            "_model_module_version": "1.2.0",
            "_model_name": "LayoutModel",
            "_view_count": null,
            "_view_module": "@jupyter-widgets/base",
            "_view_module_version": "1.2.0",
            "_view_name": "LayoutView",
            "align_content": null,
            "align_items": null,
            "align_self": null,
            "border": null,
            "bottom": null,
            "display": null,
            "flex": null,
            "flex_flow": null,
            "grid_area": null,
            "grid_auto_columns": null,
            "grid_auto_flow": null,
            "grid_auto_rows": null,
            "grid_column": null,
            "grid_gap": null,
            "grid_row": null,
            "grid_template_areas": null,
            "grid_template_columns": null,
            "grid_template_rows": null,
            "height": null,
            "justify_content": null,
            "justify_items": null,
            "left": null,
            "margin": null,
            "max_height": null,
            "max_width": null,
            "min_height": null,
            "min_width": null,
            "object_fit": null,
            "object_position": null,
            "order": null,
            "overflow": null,
            "overflow_x": null,
            "overflow_y": null,
            "padding": null,
            "right": null,
            "top": null,
            "visibility": null,
            "width": null
          }
        },
        "458f1865551c42d38cf87fbc27faa662": {
          "model_module": "@jupyter-widgets/controls",
          "model_name": "ProgressStyleModel",
          "model_module_version": "1.5.0",
          "state": {
            "_model_module": "@jupyter-widgets/controls",
            "_model_module_version": "1.5.0",
            "_model_name": "ProgressStyleModel",
            "_view_count": null,
            "_view_module": "@jupyter-widgets/base",
            "_view_module_version": "1.2.0",
            "_view_name": "StyleView",
            "bar_color": null,
            "description_width": ""
          }
        },
        "16a7a9f318c5405ab9b1c5ac95e35609": {
          "model_module": "@jupyter-widgets/base",
          "model_name": "LayoutModel",
          "model_module_version": "1.2.0",
          "state": {
            "_model_module": "@jupyter-widgets/base",
            "_model_module_version": "1.2.0",
            "_model_name": "LayoutModel",
            "_view_count": null,
            "_view_module": "@jupyter-widgets/base",
            "_view_module_version": "1.2.0",
            "_view_name": "LayoutView",
            "align_content": null,
            "align_items": null,
            "align_self": null,
            "border": null,
            "bottom": null,
            "display": null,
            "flex": null,
            "flex_flow": null,
            "grid_area": null,
            "grid_auto_columns": null,
            "grid_auto_flow": null,
            "grid_auto_rows": null,
            "grid_column": null,
            "grid_gap": null,
            "grid_row": null,
            "grid_template_areas": null,
            "grid_template_columns": null,
            "grid_template_rows": null,
            "height": null,
            "justify_content": null,
            "justify_items": null,
            "left": null,
            "margin": null,
            "max_height": null,
            "max_width": null,
            "min_height": null,
            "min_width": null,
            "object_fit": null,
            "object_position": null,
            "order": null,
            "overflow": null,
            "overflow_x": null,
            "overflow_y": null,
            "padding": null,
            "right": null,
            "top": null,
            "visibility": null,
            "width": null
          }
        },
        "0873690cc54a48b7bd455abf61835cf2": {
          "model_module": "@jupyter-widgets/controls",
          "model_name": "DescriptionStyleModel",
          "model_module_version": "1.5.0",
          "state": {
            "_model_module": "@jupyter-widgets/controls",
            "_model_module_version": "1.5.0",
            "_model_name": "DescriptionStyleModel",
            "_view_count": null,
            "_view_module": "@jupyter-widgets/base",
            "_view_module_version": "1.2.0",
            "_view_name": "StyleView",
            "description_width": ""
          }
        }
      }
    }
  },
  "cells": [
    {
      "cell_type": "markdown",
      "metadata": {
        "id": "view-in-github",
        "colab_type": "text"
      },
      "source": [
        "<a href=\"https://colab.research.google.com/github/rvthx/bachelorarbeit-cropandweed/blob/main/Endg%C3%BCltiges_Modell.ipynb\" target=\"_parent\"><img src=\"https://colab.research.google.com/assets/colab-badge.svg\" alt=\"Open In Colab\"/></a>"
      ]
    },
    {
      "cell_type": "markdown",
      "source": [
        "# Setup and Top-Layer Training"
      ],
      "metadata": {
        "id": "9wy0VOTdmw9K"
      }
    },
    {
      "cell_type": "code",
      "execution_count": null,
      "metadata": {
        "id": "IDckTLHF7w7B"
      },
      "outputs": [],
      "source": [
        "import numpy as np\n",
        "import pandas as pd\n",
        "import matplotlib.pyplot as plt\n",
        "import matplotlib\n",
        "\n",
        "import tensorflow as tf\n",
        "import tensorflow_datasets as tfds\n",
        "import tensorflow_hub as hub\n",
        "\n",
        "from tensorflow import keras\n",
        "from tensorflow.keras import layers\n",
        "from keras import callbacks\n",
        "from keras.callbacks import ModelCheckpoint, EarlyStopping, ReduceLROnPlateau, TensorBoard\n",
        "from keras.metrics import CategoricalAccuracy, FalseNegatives, FalsePositives, TrueNegatives, TruePositives"
      ]
    },
    {
      "cell_type": "code",
      "source": [
        "print(np.__version__, pd.__version__, tf.__version__, tfds.__version__, hub.__version__, matplotlib.__version__)"
      ],
      "metadata": {
        "colab": {
          "base_uri": "https://localhost:8080/"
        },
        "id": "rlwP7YeXganz",
        "outputId": "8ed11b18-e29f-45e1-ab88-e5a4da23bf03"
      },
      "execution_count": null,
      "outputs": [
        {
          "output_type": "stream",
          "name": "stdout",
          "text": [
            "1.22.4 1.5.3 2.12.0 4.9.2 0.13.0 3.7.1\n"
          ]
        }
      ]
    },
    {
      "cell_type": "code",
      "source": [
        "# Global Variables\n",
        "RAW_IMG_SIZE = (256, 256)\n",
        "IMG_SIZE = (224, 224)\n",
        "IMG_SIZE_SINGLE = 224\n",
        "IMG_SIZE_RAW_SINGLE = 256\n",
        "INPUT_SHAPE = (IMG_SIZE[0], IMG_SIZE[1], 3)\n",
        "BATCH_SIZE = 32\n",
        "STOPPING_PATIENCE = 10\n",
        "LR_PATIENCE = 5\n",
        "INITIAL_LR = 0.00001\n",
        "NUM_CLASSES = 9\n",
        "CLASSES = [0, 1, 2, 3, 4, 5, 6, 7, 8]\n",
        "CLASS_NAMES = ['Chinee Apple',\n",
        "               'Lantana',\n",
        "               'Parkinsonia',\n",
        "               'Parthenium',\n",
        "               'Prickly Acacia',\n",
        "               'Rubber Vine',\n",
        "               'Siam Weed',\n",
        "               'Snake Weed',\n",
        "               'Negatives']\n",
        "\n",
        "METRICS = [CategoricalAccuracy(name = \"categorical_accuracy\"), FalseNegatives (name = \"FN\" ), FalsePositives(name = \"FP\"), TrueNegatives(name = \"TN\"), TruePositives(name = \"TP\")]"
      ],
      "metadata": {
        "id": "zqNUz6ol77G6"
      },
      "execution_count": null,
      "outputs": []
    },
    {
      "cell_type": "code",
      "source": [
        "(ds_train_raw, ds_valid_raw, ds_test_raw), ds_info = tfds.load('Deep_weeds', split=['train[0%:60%]', 'train[60%:80%]', 'train[80%:]'], shuffle_files=True, with_info = True, as_supervised = True)"
      ],
      "metadata": {
        "colab": {
          "base_uri": "https://localhost:8080/",
          "height": 149,
          "referenced_widgets": [
            "53826751cc3f4ce292a1d2cae1d9062f",
            "26c8066ddb914c4fa8e92ab62142b4ab",
            "b1b88d0719814cbfa5e691f9e0e4f8bb",
            "c093d17c89064af696acd5c2b606399e",
            "5a694e0ab5704f75bce4f81620bbfd45",
            "2c9b2c25c9dd4840b22b21e4dc32206a",
            "a914a159d4a741c1b26990c81c38157a",
            "9fee26142adb4b7aa9e5a919f8b90c2a",
            "9da424b0956a4be9b27865b99bdddabb",
            "4ca14dca2b424ef39370585c4f57a8ee",
            "f2528ea57f6e43e48588f74fc5518d9f",
            "0d1c97eb8bef4b3eacaa710e39829e0b",
            "0308fdaf41e249b8859d79c2535b999b",
            "ce542284f08c4fdfb4b0797ff3ed3ded",
            "b163d9ed1a75499486d50ecac5634310",
            "ed5359c1772045a982c48633a21c9b95",
            "ebbfeb3189794829bb99215f7b321376",
            "9ee46297a14740638b4d0f2d54d4e2f0",
            "0f8a52cf7ab74aa78f21977fce20ffcb",
            "05db4ad2284c4768ab2e421210975b74",
            "1b95d6bf6a2f4cfa8f1ae96c506ab344",
            "6a23f54d7a1b4a6d89742dae0b2446c0",
            "fdb4baf9127e4c72902e95918f6af612",
            "a1e0a0c57d0347c7b8ef4a3d39d39876",
            "aae93bde269f4a3eb2f4a0180100c825",
            "1bf04d9ed76d4064b761ace440a3c723",
            "becb427a504e480bbe4fde257f01b428",
            "4279e0afc79b49919cb7d63da9eca7dd",
            "95b59a4d9a624f0196d4b1b88fbc27d1",
            "da4fc2034f5049edaa58a0f1b65d78a3",
            "52fb502ff653472d9b7efc521a609d36",
            "f67e41ff436e44d486a8778c4e1366d0",
            "4d6b189bcf2e4a67a8e4445cadbeaaa1",
            "f0360609e465413ebca9ded0f8bbe75b",
            "dbc843deac4a499298078e84d55c3370",
            "e5ef6fecd9ef44ecb0c989e33ceff901",
            "fabba48ce985498cab147173b12634c0",
            "055262a95c6e473ead4b683157eb3d88",
            "373837a2143d41fabbb947c1c6294bfe",
            "da315145be7f4f94a0e715eabd3fc660",
            "1b42f44518954317922101a2d3ea603d",
            "1645a58d96674222b1ce9a51d221d449",
            "403c2d7be2374f1c978d5ff51ca088af",
            "4d426c85a9244a4384a31301a29b5201",
            "842f0e59e6904c448298330ad42f5a4f",
            "4e3519707ca343d8ae918e33bd9699a8",
            "c281fea74b2b43749dbf77e74a1007ce",
            "82c7b839a1684dc08cb394acf83ba06f",
            "1beee76483414509b4d82f8fb1da7744",
            "ba10f3cc058347729d395229964b6ea1",
            "56d21e1ba3da42e69bb197361d57be7b",
            "e942fb25e35c452098041d9d8e7e1f67",
            "3169a9094ba34006a235db5096466e37",
            "ba89fc5a57ae459e92a1aa15a0af18c3",
            "4baf6b4a18974d98b5d6d444667b6060",
            "edb5a0fe396949af8579cf6da137e6bb",
            "3e58b7211f6d4b629613376223d038fb",
            "03640213e9444835b112c2d8d584596a",
            "4bfc455741c5425f83f27924315d344f",
            "bc7ea9aad3714a21920b1bb620d91213",
            "f956df7ba80144b584cea5ccf4032d49",
            "f31f5632b5bc43828419198b6423d44d",
            "9eb4f440aa884669930c9eb6177d6b38",
            "458f1865551c42d38cf87fbc27faa662",
            "16a7a9f318c5405ab9b1c5ac95e35609",
            "0873690cc54a48b7bd455abf61835cf2"
          ]
        },
        "id": "l4yIMywJ7-Kg",
        "outputId": "a5a0776b-e7d6-417f-dc64-df2b6dfb6bcf"
      },
      "execution_count": null,
      "outputs": [
        {
          "output_type": "stream",
          "name": "stdout",
          "text": [
            "Downloading and preparing dataset 469.32 MiB (download: 469.32 MiB, generated: 469.99 MiB, total: 939.31 MiB) to /root/tensorflow_datasets/deep_weeds/3.0.0...\n"
          ]
        },
        {
          "output_type": "display_data",
          "data": {
            "text/plain": [
              "Dl Completed...: 0 url [00:00, ? url/s]"
            ],
            "application/vnd.jupyter.widget-view+json": {
              "version_major": 2,
              "version_minor": 0,
              "model_id": "53826751cc3f4ce292a1d2cae1d9062f"
            }
          },
          "metadata": {}
        },
        {
          "output_type": "display_data",
          "data": {
            "text/plain": [
              "Dl Size...: 0 MiB [00:00, ? MiB/s]"
            ],
            "application/vnd.jupyter.widget-view+json": {
              "version_major": 2,
              "version_minor": 0,
              "model_id": "0d1c97eb8bef4b3eacaa710e39829e0b"
            }
          },
          "metadata": {}
        },
        {
          "output_type": "display_data",
          "data": {
            "text/plain": [
              "Extraction completed...: 0 file [00:00, ? file/s]"
            ],
            "application/vnd.jupyter.widget-view+json": {
              "version_major": 2,
              "version_minor": 0,
              "model_id": "fdb4baf9127e4c72902e95918f6af612"
            }
          },
          "metadata": {}
        },
        {
          "output_type": "display_data",
          "data": {
            "text/plain": [
              "Generating splits...:   0%|          | 0/1 [00:00<?, ? splits/s]"
            ],
            "application/vnd.jupyter.widget-view+json": {
              "version_major": 2,
              "version_minor": 0,
              "model_id": "f0360609e465413ebca9ded0f8bbe75b"
            }
          },
          "metadata": {}
        },
        {
          "output_type": "display_data",
          "data": {
            "text/plain": [
              "Generating train examples...:   0%|          | 0/17509 [00:00<?, ? examples/s]"
            ],
            "application/vnd.jupyter.widget-view+json": {
              "version_major": 2,
              "version_minor": 0,
              "model_id": "842f0e59e6904c448298330ad42f5a4f"
            }
          },
          "metadata": {}
        },
        {
          "output_type": "display_data",
          "data": {
            "text/plain": [
              "Shuffling /root/tensorflow_datasets/deep_weeds/3.0.0.incompleteMBCW5B/deep_weeds-train.tfrecord*...:   0%|    …"
            ],
            "application/vnd.jupyter.widget-view+json": {
              "version_major": 2,
              "version_minor": 0,
              "model_id": "edb5a0fe396949af8579cf6da137e6bb"
            }
          },
          "metadata": {}
        },
        {
          "output_type": "stream",
          "name": "stdout",
          "text": [
            "Dataset deep_weeds downloaded and prepared to /root/tensorflow_datasets/deep_weeds/3.0.0. Subsequent calls will reuse this data.\n"
          ]
        }
      ]
    },
    {
      "cell_type": "code",
      "source": [
        "# For checking label counts,\n",
        "def get_value_counts(ds):\n",
        "    label_list = []\n",
        "    for images, labels in ds:\n",
        "        label_list.append(labels.numpy())\n",
        "    label_counts = pd.Series(label_list).value_counts(sort=True)\n",
        "\n",
        "    print(label_counts)"
      ],
      "metadata": {
        "id": "STG9UKtx7-_8"
      },
      "execution_count": null,
      "outputs": []
    },
    {
      "cell_type": "code",
      "source": [
        "get_value_counts(ds_train_raw)"
      ],
      "metadata": {
        "colab": {
          "base_uri": "https://localhost:8080/"
        },
        "id": "ikuw9A5m8AMg",
        "outputId": "81140a4c-4ee5-44d9-b055-0d06081243ce"
      },
      "execution_count": null,
      "outputs": [
        {
          "output_type": "stream",
          "name": "stdout",
          "text": [
            "8    5514\n",
            "6     645\n",
            "0     644\n",
            "1     644\n",
            "3     636\n",
            "2     616\n",
            "4     614\n",
            "5     597\n",
            "7     595\n",
            "dtype: int64\n"
          ]
        }
      ]
    },
    {
      "cell_type": "code",
      "source": [
        "get_value_counts(ds_valid_raw)"
      ],
      "metadata": {
        "colab": {
          "base_uri": "https://localhost:8080/"
        },
        "id": "mIiQr7ET8BWn",
        "outputId": "6b592bc4-ca58-4c47-e1d6-b11d47e10fee"
      },
      "execution_count": null,
      "outputs": [
        {
          "output_type": "stream",
          "name": "stdout",
          "text": [
            "8    1821\n",
            "0     247\n",
            "4     231\n",
            "5     212\n",
            "6     211\n",
            "1     209\n",
            "2     202\n",
            "7     186\n",
            "3     183\n",
            "dtype: int64\n"
          ]
        }
      ]
    },
    {
      "cell_type": "code",
      "source": [
        "get_value_counts(ds_test_raw)"
      ],
      "metadata": {
        "colab": {
          "base_uri": "https://localhost:8080/"
        },
        "id": "TqoRQTcL8CUp",
        "outputId": "b57ec377-4c00-4a45-867b-6bd7f8a8544a"
      },
      "execution_count": null,
      "outputs": [
        {
          "output_type": "stream",
          "name": "stdout",
          "text": [
            "8    1771\n",
            "7     235\n",
            "0     234\n",
            "6     218\n",
            "4     217\n",
            "2     213\n",
            "1     211\n",
            "3     203\n",
            "5     200\n",
            "dtype: int64\n"
          ]
        }
      ]
    },
    {
      "cell_type": "code",
      "source": [
        "def one_hot_encode(image, label):\n",
        "    label = tf.one_hot(label, NUM_CLASSES)\n",
        "    return image, label"
      ],
      "metadata": {
        "id": "5Yq7lqrO8DKg"
      },
      "execution_count": null,
      "outputs": []
    },
    {
      "cell_type": "code",
      "source": [
        "## ds_train_raw.map IF CENTERCROP IS USED\n",
        "ds_train = ds_train_raw.map(one_hot_encode)\n",
        "ds_valid = ds_valid_raw.map(one_hot_encode)\n",
        "ds_test = ds_test_raw.map(one_hot_encode)"
      ],
      "metadata": {
        "id": "m6C9tuin8ECL"
      },
      "execution_count": null,
      "outputs": []
    },
    {
      "cell_type": "code",
      "source": [
        "data_augmentation = keras.Sequential([\n",
        "        layers.RandomZoom(height_factor = (-0.5, 0),fill_mode = \"constant\"),\n",
        "        layers.RandomFlip(mode = \"horizontal_and_vertical\"),\n",
        "        layers.RandomRotation(1),\n",
        "        layers.RandomBrightness([-0.25, 0.25]),\n",
        "        layers.CenterCrop(IMG_SIZE_SINGLE, IMG_SIZE_SINGLE) ## IF USED DO NOT FORGET TO MAKE DATASET CHANGES AND ALSO EXCLUDE THE RESIZE CODEBLOCK\n",
        "    ])"
      ],
      "metadata": {
        "id": "bJ2eUI8x8E5T"
      },
      "execution_count": null,
      "outputs": []
    },
    {
      "cell_type": "code",
      "source": [
        "ds_train = ds_train.batch(batch_size=BATCH_SIZE,\n",
        "                          drop_remainder=True).prefetch(tf.data.AUTOTUNE)\n",
        "\n",
        "ds_valid = ds_valid.batch(batch_size=BATCH_SIZE,\n",
        "                      drop_remainder=True).prefetch(tf.data.AUTOTUNE)\n",
        "\n",
        "ds_test = ds_test.batch(batch_size=BATCH_SIZE,\n",
        "                        drop_remainder=True).prefetch(tf.data.AUTOTUNE)"
      ],
      "metadata": {
        "id": "eRXk7tqm8Fm5"
      },
      "execution_count": null,
      "outputs": []
    },
    {
      "cell_type": "code",
      "source": [
        "base_model = keras.applications.ResNet50(\n",
        "                            include_top=False, # Exclude ImageNet classifier at the top.\n",
        "                            weights=\"imagenet\",\n",
        "                            input_shape=(IMG_SIZE_SINGLE, IMG_SIZE_SINGLE, 3)\n",
        "                            )\n",
        "base_model.trainable = False"
      ],
      "metadata": {
        "colab": {
          "base_uri": "https://localhost:8080/"
        },
        "id": "lT4GZzpi8Fil",
        "outputId": "9fab75f5-23f0-48e1-8c84-5a99f226e9f2"
      },
      "execution_count": null,
      "outputs": [
        {
          "output_type": "stream",
          "name": "stdout",
          "text": [
            "Downloading data from https://storage.googleapis.com/tensorflow/keras-applications/resnet/resnet50_weights_tf_dim_ordering_tf_kernels_notop.h5\n",
            "94765736/94765736 [==============================] - 0s 0us/step\n"
          ]
        }
      ]
    },
    {
      "cell_type": "code",
      "source": [
        "## USE IMAGE_RAW_SINGLE IF CENTERCROP IS USED\n",
        "inputs = keras.Input(shape=(IMG_SIZE_RAW_SINGLE, IMG_SIZE_RAW_SINGLE, 3))\n",
        "x = data_augmentation(inputs)"
      ],
      "metadata": {
        "id": "HF2TE8cd8H_p"
      },
      "execution_count": null,
      "outputs": []
    },
    {
      "cell_type": "code",
      "source": [
        "x = keras.applications.resnet50.preprocess_input(x)"
      ],
      "metadata": {
        "id": "saQVHxTZ8JWr"
      },
      "execution_count": null,
      "outputs": []
    },
    {
      "cell_type": "code",
      "source": [
        "x = base_model(x, training=True)"
      ],
      "metadata": {
        "id": "ln3fdqZs8Kvz"
      },
      "execution_count": null,
      "outputs": []
    },
    {
      "cell_type": "code",
      "source": [
        "x = layers.GlobalAveragePooling2D()(x)\n",
        "\n",
        "outputs = layers.Dense(NUM_CLASSES, activation=\"sigmoid\", name=\"pred\", kernel_initializer = tf.keras.initializers.GlorotNormal(seed=64))(x)\n",
        "\n",
        "model = keras.Model(inputs, outputs)"
      ],
      "metadata": {
        "id": "NW0VTzb08LfM"
      },
      "execution_count": null,
      "outputs": []
    },
    {
      "cell_type": "code",
      "source": [
        "model.summary(show_trainable=True)"
      ],
      "metadata": {
        "colab": {
          "base_uri": "https://localhost:8080/"
        },
        "id": "X3BCyyzL8MZa",
        "outputId": "848fef55-057a-4b5d-e9f6-70de22413233"
      },
      "execution_count": null,
      "outputs": [
        {
          "output_type": "stream",
          "name": "stdout",
          "text": [
            "Model: \"model\"\n",
            "____________________________________________________________________________\n",
            " Layer (type)                Output Shape              Param #   Trainable  \n",
            "============================================================================\n",
            " input_2 (InputLayer)        [(None, 256, 256, 3)]     0         Y          \n",
            "                                                                            \n",
            " sequential (Sequential)     (None, 224, 224, 3)       0         Y          \n",
            "                                                                            \n",
            " tf.__operators__.getitem (S  (None, 224, 224, 3)      0         Y          \n",
            " licingOpLambda)                                                            \n",
            "                                                                            \n",
            " tf.nn.bias_add (TFOpLambda)  (None, 224, 224, 3)      0         Y          \n",
            "                                                                            \n",
            " resnet50 (Functional)       (None, 7, 7, 2048)        23587712  N          \n",
            "                                                                            \n",
            " global_average_pooling2d (G  (None, 2048)             0         Y          \n",
            " lobalAveragePooling2D)                                                     \n",
            "                                                                            \n",
            " pred (Dense)                (None, 9)                 18441     Y          \n",
            "                                                                            \n",
            "============================================================================\n",
            "Total params: 23,606,153\n",
            "Trainable params: 18,441\n",
            "Non-trainable params: 23,587,712\n",
            "____________________________________________________________________________\n"
          ]
        }
      ]
    },
    {
      "cell_type": "code",
      "source": [
        "model_checkpoint = ModelCheckpoint(\"[FINAL]DeepWeeds_Resnet_TopOnly_Sigmoid_(CenterCrop)BestWeights.hdf5\", verbose=1, save_best_only=True)\n",
        "early_stopping = EarlyStopping(patience=STOPPING_PATIENCE, restore_best_weights=True)\n",
        "reduce_lr = ReduceLROnPlateau('val_loss', factor=0.5, patience=LR_PATIENCE, min_lr=0.000003125)\n",
        "\n",
        "callbacks = [model_checkpoint, early_stopping, reduce_lr]"
      ],
      "metadata": {
        "id": "JdF9qjn58OIv"
      },
      "execution_count": null,
      "outputs": []
    },
    {
      "cell_type": "code",
      "source": [
        "model.compile(loss='binary_crossentropy', optimizer = keras.optimizers.Adam(), metrics=METRICS)"
      ],
      "metadata": {
        "id": "4BVnm23n8PG8"
      },
      "execution_count": null,
      "outputs": []
    },
    {
      "cell_type": "code",
      "source": [
        "history = model.fit(ds_train, validation_data = ds_valid, epochs = 50, callbacks = callbacks, verbose = 1)"
      ],
      "metadata": {
        "colab": {
          "base_uri": "https://localhost:8080/"
        },
        "id": "JLIw4w3w8QI6",
        "outputId": "ef64b776-2993-4c12-a39f-7bf94e25d60e"
      },
      "execution_count": null,
      "outputs": [
        {
          "output_type": "stream",
          "name": "stdout",
          "text": [
            "Epoch 1/50\n",
            "328/328 [==============================] - ETA: 0s - loss: 0.1996 - categorical_accuracy: 0.6440 - FN: 5286.0000 - FP: 2084.0000 - TN: 81884.0000 - TP: 5210.0000\n",
            "Epoch 1: val_loss improved from inf to 0.15846, saving model to [FINAL]DeepWeeds_Resnet_TopOnly_Sigmoid_(CenterCrop)BestWeights.hdf5\n",
            "328/328 [==============================] - 32s 62ms/step - loss: 0.1996 - categorical_accuracy: 0.6440 - FN: 5286.0000 - FP: 2084.0000 - TN: 81884.0000 - TP: 5210.0000 - val_loss: 0.1585 - val_categorical_accuracy: 0.7337 - val_FN: 1637.0000 - val_FP: 361.0000 - val_TN: 27543.0000 - val_TP: 1851.0000 - lr: 0.0010\n",
            "Epoch 2/50\n",
            "328/328 [==============================] - ETA: 0s - loss: 0.1475 - categorical_accuracy: 0.7485 - FN: 3909.0000 - FP: 1548.0000 - TN: 82420.0000 - TP: 6587.0000\n",
            "Epoch 2: val_loss improved from 0.15846 to 0.15128, saving model to [FINAL]DeepWeeds_Resnet_TopOnly_Sigmoid_(CenterCrop)BestWeights.hdf5\n",
            "328/328 [==============================] - 22s 67ms/step - loss: 0.1475 - categorical_accuracy: 0.7485 - FN: 3909.0000 - FP: 1548.0000 - TN: 82420.0000 - TP: 6587.0000 - val_loss: 0.1513 - val_categorical_accuracy: 0.7569 - val_FN: 1547.0000 - val_FP: 361.0000 - val_TN: 27543.0000 - val_TP: 1941.0000 - lr: 0.0010\n",
            "Epoch 3/50\n",
            "327/328 [============================>.] - ETA: 0s - loss: 0.1330 - categorical_accuracy: 0.7731 - FN: 3410.0000 - FP: 1511.0000 - TN: 82201.0000 - TP: 7054.0000\n",
            "Epoch 3: val_loss did not improve from 0.15128\n",
            "328/328 [==============================] - 17s 53ms/step - loss: 0.1330 - categorical_accuracy: 0.7730 - FN: 3420.0000 - FP: 1516.0000 - TN: 82452.0000 - TP: 7076.0000 - val_loss: 0.1537 - val_categorical_accuracy: 0.7460 - val_FN: 1477.0000 - val_FP: 460.0000 - val_TN: 27444.0000 - val_TP: 2011.0000 - lr: 0.0010\n",
            "Epoch 4/50\n",
            "327/328 [============================>.] - ETA: 0s - loss: 0.1274 - categorical_accuracy: 0.7848 - FN: 3246.0000 - FP: 1522.0000 - TN: 82190.0000 - TP: 7218.0000\n",
            "Epoch 4: val_loss did not improve from 0.15128\n",
            "328/328 [==============================] - 19s 58ms/step - loss: 0.1273 - categorical_accuracy: 0.7851 - FN: 3252.0000 - FP: 1525.0000 - TN: 82443.0000 - TP: 7244.0000 - val_loss: 0.1665 - val_categorical_accuracy: 0.7357 - val_FN: 1570.0000 - val_FP: 515.0000 - val_TN: 27389.0000 - val_TP: 1918.0000 - lr: 0.0010\n",
            "Epoch 5/50\n",
            "327/328 [============================>.] - ETA: 0s - loss: 0.1224 - categorical_accuracy: 0.7952 - FN: 3053.0000 - FP: 1492.0000 - TN: 82220.0000 - TP: 7411.0000\n",
            "Epoch 5: val_loss did not improve from 0.15128\n",
            "328/328 [==============================] - 18s 54ms/step - loss: 0.1225 - categorical_accuracy: 0.7950 - FN: 3064.0000 - FP: 1498.0000 - TN: 82470.0000 - TP: 7432.0000 - val_loss: 0.1698 - val_categorical_accuracy: 0.7322 - val_FN: 1591.0000 - val_FP: 485.0000 - val_TN: 27419.0000 - val_TP: 1897.0000 - lr: 0.0010\n",
            "Epoch 6/50\n",
            "328/328 [==============================] - ETA: 0s - loss: 0.1176 - categorical_accuracy: 0.8090 - FN: 2922.0000 - FP: 1458.0000 - TN: 82510.0000 - TP: 7574.0000\n",
            "Epoch 6: val_loss did not improve from 0.15128\n",
            "328/328 [==============================] - 17s 53ms/step - loss: 0.1176 - categorical_accuracy: 0.8090 - FN: 2922.0000 - FP: 1458.0000 - TN: 82510.0000 - TP: 7574.0000 - val_loss: 0.1761 - val_categorical_accuracy: 0.7190 - val_FN: 1570.0000 - val_FP: 553.0000 - val_TN: 27351.0000 - val_TP: 1918.0000 - lr: 0.0010\n",
            "Epoch 7/50\n",
            "328/328 [==============================] - ETA: 0s - loss: 0.1158 - categorical_accuracy: 0.8086 - FN: 2840.0000 - FP: 1477.0000 - TN: 82491.0000 - TP: 7656.0000\n",
            "Epoch 7: val_loss did not improve from 0.15128\n",
            "328/328 [==============================] - 18s 54ms/step - loss: 0.1158 - categorical_accuracy: 0.8086 - FN: 2840.0000 - FP: 1477.0000 - TN: 82491.0000 - TP: 7656.0000 - val_loss: 0.1652 - val_categorical_accuracy: 0.7414 - val_FN: 1539.0000 - val_FP: 489.0000 - val_TN: 27415.0000 - val_TP: 1949.0000 - lr: 0.0010\n",
            "Epoch 8/50\n",
            "327/328 [============================>.] - ETA: 0s - loss: 0.1114 - categorical_accuracy: 0.8192 - FN: 2701.0000 - FP: 1386.0000 - TN: 82326.0000 - TP: 7763.0000\n",
            "Epoch 8: val_loss did not improve from 0.15128\n",
            "328/328 [==============================] - 18s 55ms/step - loss: 0.1114 - categorical_accuracy: 0.8193 - FN: 2709.0000 - FP: 1388.0000 - TN: 82580.0000 - TP: 7787.0000 - val_loss: 0.1722 - val_categorical_accuracy: 0.7440 - val_FN: 1643.0000 - val_FP: 386.0000 - val_TN: 27518.0000 - val_TP: 1845.0000 - lr: 5.0000e-04\n",
            "Epoch 9/50\n",
            "328/328 [==============================] - ETA: 0s - loss: 0.1104 - categorical_accuracy: 0.8189 - FN: 2685.0000 - FP: 1411.0000 - TN: 82557.0000 - TP: 7811.0000\n",
            "Epoch 9: val_loss did not improve from 0.15128\n",
            "328/328 [==============================] - 17s 53ms/step - loss: 0.1104 - categorical_accuracy: 0.8189 - FN: 2685.0000 - FP: 1411.0000 - TN: 82557.0000 - TP: 7811.0000 - val_loss: 0.1676 - val_categorical_accuracy: 0.7523 - val_FN: 1563.0000 - val_FP: 448.0000 - val_TN: 27456.0000 - val_TP: 1925.0000 - lr: 5.0000e-04\n",
            "Epoch 10/50\n",
            "328/328 [==============================] - ETA: 0s - loss: 0.1078 - categorical_accuracy: 0.8227 - FN: 2606.0000 - FP: 1332.0000 - TN: 82636.0000 - TP: 7890.0000\n",
            "Epoch 10: val_loss did not improve from 0.15128\n",
            "328/328 [==============================] - 16s 49ms/step - loss: 0.1078 - categorical_accuracy: 0.8227 - FN: 2606.0000 - FP: 1332.0000 - TN: 82636.0000 - TP: 7890.0000 - val_loss: 0.1658 - val_categorical_accuracy: 0.7509 - val_FN: 1559.0000 - val_FP: 450.0000 - val_TN: 27454.0000 - val_TP: 1929.0000 - lr: 5.0000e-04\n",
            "Epoch 11/50\n",
            "327/328 [============================>.] - ETA: 0s - loss: 0.1093 - categorical_accuracy: 0.8192 - FN: 2678.0000 - FP: 1399.0000 - TN: 82313.0000 - TP: 7786.0000\n",
            "Epoch 11: val_loss did not improve from 0.15128\n",
            "328/328 [==============================] - 17s 51ms/step - loss: 0.1092 - categorical_accuracy: 0.8193 - FN: 2686.0000 - FP: 1403.0000 - TN: 82565.0000 - TP: 7810.0000 - val_loss: 0.1651 - val_categorical_accuracy: 0.7511 - val_FN: 1560.0000 - val_FP: 433.0000 - val_TN: 27471.0000 - val_TP: 1928.0000 - lr: 5.0000e-04\n",
            "Epoch 12/50\n",
            "328/328 [==============================] - ETA: 0s - loss: 0.1070 - categorical_accuracy: 0.8256 - FN: 2608.0000 - FP: 1334.0000 - TN: 82634.0000 - TP: 7888.0000\n",
            "Epoch 12: val_loss did not improve from 0.15128\n",
            "328/328 [==============================] - 18s 55ms/step - loss: 0.1070 - categorical_accuracy: 0.8256 - FN: 2608.0000 - FP: 1334.0000 - TN: 82634.0000 - TP: 7888.0000 - val_loss: 0.1544 - val_categorical_accuracy: 0.7649 - val_FN: 1423.0000 - val_FP: 472.0000 - val_TN: 27432.0000 - val_TP: 2065.0000 - lr: 5.0000e-04\n"
          ]
        }
      ]
    },
    {
      "cell_type": "code",
      "source": [
        "def plot_hist(hist):\n",
        "    plt.plot(hist.history['categorical_accuracy'])\n",
        "    plt.plot(hist.history['val_categorical_accuracy'])\n",
        "    plt.title('Categorical accuracy')\n",
        "    plt.ylabel('accuracy')\n",
        "    plt.xlabel('epoch')\n",
        "    plt.legend(['train', 'validation'], loc='upper left')\n",
        "    plt.show()\n",
        "\n",
        "plot_hist(history)"
      ],
      "metadata": {
        "colab": {
          "base_uri": "https://localhost:8080/",
          "height": 472
        },
        "id": "Q_9u5nuC8RKv",
        "outputId": "89362666-7af0-48d7-eedd-5a64d1aeea98"
      },
      "execution_count": null,
      "outputs": [
        {
          "output_type": "display_data",
          "data": {
            "text/plain": [
              "<Figure size 640x480 with 1 Axes>"
            ],
            "image/png": "[encoded data removed]"
          },
          "metadata": {}
        }
      ]
    },
    {
      "cell_type": "code",
      "source": [
        "def plot_hist_loss(hist):\n",
        "    plt.plot(hist.history['val_loss'])\n",
        "    plt.title('val_loss')\n",
        "    plt.ylabel('loss')\n",
        "    plt.xlabel('epoch')\n",
        "    plt.show()\n",
        "\n",
        "plot_hist_loss(history)"
      ],
      "metadata": {
        "colab": {
          "base_uri": "https://localhost:8080/",
          "height": 472
        },
        "id": "3IwjmaSI8SDr",
        "outputId": "b22b675b-2255-4293-b473-917b333036c1"
      },
      "execution_count": null,
      "outputs": [
        {
          "output_type": "display_data",
          "data": {
            "text/plain": [
              "<Figure size 640x480 with 1 Axes>"
            ],
            "image/png": "[encoded data removed]"
          },
          "metadata": {}
        }
      ]
    },
    {
      "cell_type": "code",
      "source": [
        "result = model.evaluate(ds_test)"
      ],
      "metadata": {
        "colab": {
          "base_uri": "https://localhost:8080/"
        },
        "id": "udHvt0u48S_f",
        "outputId": "1204cd82-a952-49ae-b7d4-4c2a63dac4eb"
      },
      "execution_count": null,
      "outputs": [
        {
          "output_type": "stream",
          "name": "stdout",
          "text": [
            "109/109 [==============================] - 5s 48ms/step - loss: 0.1581 - categorical_accuracy: 0.7357 - FN: 1588.0000 - FP: 401.0000 - TN: 27503.0000 - TP: 1900.0000\n"
          ]
        }
      ]
    },
    {
      "cell_type": "markdown",
      "source": [
        "# Full-Training and Evaluation"
      ],
      "metadata": {
        "id": "IFFeZ24V8xaI"
      }
    },
    {
      "cell_type": "code",
      "source": [
        "model.layers[4].trainable = True"
      ],
      "metadata": {
        "id": "IC4ZmaDi8y6k"
      },
      "execution_count": null,
      "outputs": []
    },
    {
      "cell_type": "code",
      "source": [
        "model.layers[4].summary(show_trainable = True)"
      ],
      "metadata": {
        "colab": {
          "base_uri": "https://localhost:8080/"
        },
        "id": "Wc5Rvy4L80_z",
        "outputId": "5701b6ac-5eeb-4b41-9c7c-127ac08fa6ce"
      },
      "execution_count": null,
      "outputs": [
        {
          "output_type": "stream",
          "name": "stdout",
          "text": [
            "Model: \"resnet50\"\n",
            "_____________________________________________________________________________________________________________\n",
            " Layer (type)                   Output Shape         Param #     Connected to                     Trainable  \n",
            "=============================================================================================================\n",
            " input_1 (InputLayer)           [(None, 224, 224, 3  0           []                               Y          \n",
            "                                )]                                                                           \n",
            "                                                                                                             \n",
            " conv1_pad (ZeroPadding2D)      (None, 230, 230, 3)  0           ['input_1[0][0]']                Y          \n",
            "                                                                                                             \n",
            " conv1_conv (Conv2D)            (None, 112, 112, 64  9472        ['conv1_pad[0][0]']              Y          \n",
            "                                )                                                                            \n",
            "                                                                                                             \n",
            " conv1_bn (BatchNormalization)  (None, 112, 112, 64  256         ['conv1_conv[0][0]']             Y          \n",
            "                                )                                                                            \n",
            "                                                                                                             \n",
            " conv1_relu (Activation)        (None, 112, 112, 64  0           ['conv1_bn[0][0]']               Y          \n",
            "                                )                                                                            \n",
            "                                                                                                             \n",
            " pool1_pad (ZeroPadding2D)      (None, 114, 114, 64  0           ['conv1_relu[0][0]']             Y          \n",
            "                                )                                                                            \n",
            "                                                                                                             \n",
            " pool1_pool (MaxPooling2D)      (None, 56, 56, 64)   0           ['pool1_pad[0][0]']              Y          \n",
            "                                                                                                             \n",
            " conv2_block1_1_conv (Conv2D)   (None, 56, 56, 64)   4160        ['pool1_pool[0][0]']             Y          \n",
            "                                                                                                             \n",
            " conv2_block1_1_bn (BatchNormal  (None, 56, 56, 64)  256         ['conv2_block1_1_conv[0][0]']    Y          \n",
            " ization)                                                                                                    \n",
            "                                                                                                             \n",
            " conv2_block1_1_relu (Activatio  (None, 56, 56, 64)  0           ['conv2_block1_1_bn[0][0]']      Y          \n",
            " n)                                                                                                          \n",
            "                                                                                                             \n",
            " conv2_block1_2_conv (Conv2D)   (None, 56, 56, 64)   36928       ['conv2_block1_1_relu[0][0]']    Y          \n",
            "                                                                                                             \n",
            " conv2_block1_2_bn (BatchNormal  (None, 56, 56, 64)  256         ['conv2_block1_2_conv[0][0]']    Y          \n",
            " ization)                                                                                                    \n",
            "                                                                                                             \n",
            " conv2_block1_2_relu (Activatio  (None, 56, 56, 64)  0           ['conv2_block1_2_bn[0][0]']      Y          \n",
            " n)                                                                                                          \n",
            "                                                                                                             \n",
            " conv2_block1_0_conv (Conv2D)   (None, 56, 56, 256)  16640       ['pool1_pool[0][0]']             Y          \n",
            "                                                                                                             \n",
            " conv2_block1_3_conv (Conv2D)   (None, 56, 56, 256)  16640       ['conv2_block1_2_relu[0][0]']    Y          \n",
            "                                                                                                             \n",
            " conv2_block1_0_bn (BatchNormal  (None, 56, 56, 256)  1024       ['conv2_block1_0_conv[0][0]']    Y          \n",
            " ization)                                                                                                    \n",
            "                                                                                                             \n",
            " conv2_block1_3_bn (BatchNormal  (None, 56, 56, 256)  1024       ['conv2_block1_3_conv[0][0]']    Y          \n",
            " ization)                                                                                                    \n",
            "                                                                                                             \n",
            " conv2_block1_add (Add)         (None, 56, 56, 256)  0           ['conv2_block1_0_bn[0][0]',      Y          \n",
            "                                                                  'conv2_block1_3_bn[0][0]']                 \n",
            "                                                                                                             \n",
            " conv2_block1_out (Activation)  (None, 56, 56, 256)  0           ['conv2_block1_add[0][0]']       Y          \n",
            "                                                                                                             \n",
            " conv2_block2_1_conv (Conv2D)   (None, 56, 56, 64)   16448       ['conv2_block1_out[0][0]']       Y          \n",
            "                                                                                                             \n",
            " conv2_block2_1_bn (BatchNormal  (None, 56, 56, 64)  256         ['conv2_block2_1_conv[0][0]']    Y          \n",
            " ization)                                                                                                    \n",
            "                                                                                                             \n",
            " conv2_block2_1_relu (Activatio  (None, 56, 56, 64)  0           ['conv2_block2_1_bn[0][0]']      Y          \n",
            " n)                                                                                                          \n",
            "                                                                                                             \n",
            " conv2_block2_2_conv (Conv2D)   (None, 56, 56, 64)   36928       ['conv2_block2_1_relu[0][0]']    Y          \n",
            "                                                                                                             \n",
            " conv2_block2_2_bn (BatchNormal  (None, 56, 56, 64)  256         ['conv2_block2_2_conv[0][0]']    Y          \n",
            " ization)                                                                                                    \n",
            "                                                                                                             \n",
            " conv2_block2_2_relu (Activatio  (None, 56, 56, 64)  0           ['conv2_block2_2_bn[0][0]']      Y          \n",
            " n)                                                                                                          \n",
            "                                                                                                             \n",
            " conv2_block2_3_conv (Conv2D)   (None, 56, 56, 256)  16640       ['conv2_block2_2_relu[0][0]']    Y          \n",
            "                                                                                                             \n",
            " conv2_block2_3_bn (BatchNormal  (None, 56, 56, 256)  1024       ['conv2_block2_3_conv[0][0]']    Y          \n",
            " ization)                                                                                                    \n",
            "                                                                                                             \n",
            " conv2_block2_add (Add)         (None, 56, 56, 256)  0           ['conv2_block1_out[0][0]',       Y          \n",
            "                                                                  'conv2_block2_3_bn[0][0]']                 \n",
            "                                                                                                             \n",
            " conv2_block2_out (Activation)  (None, 56, 56, 256)  0           ['conv2_block2_add[0][0]']       Y          \n",
            "                                                                                                             \n",
            " conv2_block3_1_conv (Conv2D)   (None, 56, 56, 64)   16448       ['conv2_block2_out[0][0]']       Y          \n",
            "                                                                                                             \n",
            " conv2_block3_1_bn (BatchNormal  (None, 56, 56, 64)  256         ['conv2_block3_1_conv[0][0]']    Y          \n",
            " ization)                                                                                                    \n",
            "                                                                                                             \n",
            " conv2_block3_1_relu (Activatio  (None, 56, 56, 64)  0           ['conv2_block3_1_bn[0][0]']      Y          \n",
            " n)                                                                                                          \n",
            "                                                                                                             \n",
            " conv2_block3_2_conv (Conv2D)   (None, 56, 56, 64)   36928       ['conv2_block3_1_relu[0][0]']    Y          \n",
            "                                                                                                             \n",
            " conv2_block3_2_bn (BatchNormal  (None, 56, 56, 64)  256         ['conv2_block3_2_conv[0][0]']    Y          \n",
            " ization)                                                                                                    \n",
            "                                                                                                             \n",
            " conv2_block3_2_relu (Activatio  (None, 56, 56, 64)  0           ['conv2_block3_2_bn[0][0]']      Y          \n",
            " n)                                                                                                          \n",
            "                                                                                                             \n",
            " conv2_block3_3_conv (Conv2D)   (None, 56, 56, 256)  16640       ['conv2_block3_2_relu[0][0]']    Y          \n",
            "                                                                                                             \n",
            " conv2_block3_3_bn (BatchNormal  (None, 56, 56, 256)  1024       ['conv2_block3_3_conv[0][0]']    Y          \n",
            " ization)                                                                                                    \n",
            "                                                                                                             \n",
            " conv2_block3_add (Add)         (None, 56, 56, 256)  0           ['conv2_block2_out[0][0]',       Y          \n",
            "                                                                  'conv2_block3_3_bn[0][0]']                 \n",
            "                                                                                                             \n",
            " conv2_block3_out (Activation)  (None, 56, 56, 256)  0           ['conv2_block3_add[0][0]']       Y          \n",
            "                                                                                                             \n",
            " conv3_block1_1_conv (Conv2D)   (None, 28, 28, 128)  32896       ['conv2_block3_out[0][0]']       Y          \n",
            "                                                                                                             \n",
            " conv3_block1_1_bn (BatchNormal  (None, 28, 28, 128)  512        ['conv3_block1_1_conv[0][0]']    Y          \n",
            " ization)                                                                                                    \n",
            "                                                                                                             \n",
            " conv3_block1_1_relu (Activatio  (None, 28, 28, 128)  0          ['conv3_block1_1_bn[0][0]']      Y          \n",
            " n)                                                                                                          \n",
            "                                                                                                             \n",
            " conv3_block1_2_conv (Conv2D)   (None, 28, 28, 128)  147584      ['conv3_block1_1_relu[0][0]']    Y          \n",
            "                                                                                                             \n",
            " conv3_block1_2_bn (BatchNormal  (None, 28, 28, 128)  512        ['conv3_block1_2_conv[0][0]']    Y          \n",
            " ization)                                                                                                    \n",
            "                                                                                                             \n",
            " conv3_block1_2_relu (Activatio  (None, 28, 28, 128)  0          ['conv3_block1_2_bn[0][0]']      Y          \n",
            " n)                                                                                                          \n",
            "                                                                                                             \n",
            " conv3_block1_0_conv (Conv2D)   (None, 28, 28, 512)  131584      ['conv2_block3_out[0][0]']       Y          \n",
            "                                                                                                             \n",
            " conv3_block1_3_conv (Conv2D)   (None, 28, 28, 512)  66048       ['conv3_block1_2_relu[0][0]']    Y          \n",
            "                                                                                                             \n",
            " conv3_block1_0_bn (BatchNormal  (None, 28, 28, 512)  2048       ['conv3_block1_0_conv[0][0]']    Y          \n",
            " ization)                                                                                                    \n",
            "                                                                                                             \n",
            " conv3_block1_3_bn (BatchNormal  (None, 28, 28, 512)  2048       ['conv3_block1_3_conv[0][0]']    Y          \n",
            " ization)                                                                                                    \n",
            "                                                                                                             \n",
            " conv3_block1_add (Add)         (None, 28, 28, 512)  0           ['conv3_block1_0_bn[0][0]',      Y          \n",
            "                                                                  'conv3_block1_3_bn[0][0]']                 \n",
            "                                                                                                             \n",
            " conv3_block1_out (Activation)  (None, 28, 28, 512)  0           ['conv3_block1_add[0][0]']       Y          \n",
            "                                                                                                             \n",
            " conv3_block2_1_conv (Conv2D)   (None, 28, 28, 128)  65664       ['conv3_block1_out[0][0]']       Y          \n",
            "                                                                                                             \n",
            " conv3_block2_1_bn (BatchNormal  (None, 28, 28, 128)  512        ['conv3_block2_1_conv[0][0]']    Y          \n",
            " ization)                                                                                                    \n",
            "                                                                                                             \n",
            " conv3_block2_1_relu (Activatio  (None, 28, 28, 128)  0          ['conv3_block2_1_bn[0][0]']      Y          \n",
            " n)                                                                                                          \n",
            "                                                                                                             \n",
            " conv3_block2_2_conv (Conv2D)   (None, 28, 28, 128)  147584      ['conv3_block2_1_relu[0][0]']    Y          \n",
            "                                                                                                             \n",
            " conv3_block2_2_bn (BatchNormal  (None, 28, 28, 128)  512        ['conv3_block2_2_conv[0][0]']    Y          \n",
            " ization)                                                                                                    \n",
            "                                                                                                             \n",
            " conv3_block2_2_relu (Activatio  (None, 28, 28, 128)  0          ['conv3_block2_2_bn[0][0]']      Y          \n",
            " n)                                                                                                          \n",
            "                                                                                                             \n",
            " conv3_block2_3_conv (Conv2D)   (None, 28, 28, 512)  66048       ['conv3_block2_2_relu[0][0]']    Y          \n",
            "                                                                                                             \n",
            " conv3_block2_3_bn (BatchNormal  (None, 28, 28, 512)  2048       ['conv3_block2_3_conv[0][0]']    Y          \n",
            " ization)                                                                                                    \n",
            "                                                                                                             \n",
            " conv3_block2_add (Add)         (None, 28, 28, 512)  0           ['conv3_block1_out[0][0]',       Y          \n",
            "                                                                  'conv3_block2_3_bn[0][0]']                 \n",
            "                                                                                                             \n",
            " conv3_block2_out (Activation)  (None, 28, 28, 512)  0           ['conv3_block2_add[0][0]']       Y          \n",
            "                                                                                                             \n",
            " conv3_block3_1_conv (Conv2D)   (None, 28, 28, 128)  65664       ['conv3_block2_out[0][0]']       Y          \n",
            "                                                                                                             \n",
            " conv3_block3_1_bn (BatchNormal  (None, 28, 28, 128)  512        ['conv3_block3_1_conv[0][0]']    Y          \n",
            " ization)                                                                                                    \n",
            "                                                                                                             \n",
            " conv3_block3_1_relu (Activatio  (None, 28, 28, 128)  0          ['conv3_block3_1_bn[0][0]']      Y          \n",
            " n)                                                                                                          \n",
            "                                                                                                             \n",
            " conv3_block3_2_conv (Conv2D)   (None, 28, 28, 128)  147584      ['conv3_block3_1_relu[0][0]']    Y          \n",
            "                                                                                                             \n",
            " conv3_block3_2_bn (BatchNormal  (None, 28, 28, 128)  512        ['conv3_block3_2_conv[0][0]']    Y          \n",
            " ization)                                                                                                    \n",
            "                                                                                                             \n",
            " conv3_block3_2_relu (Activatio  (None, 28, 28, 128)  0          ['conv3_block3_2_bn[0][0]']      Y          \n",
            " n)                                                                                                          \n",
            "                                                                                                             \n",
            " conv3_block3_3_conv (Conv2D)   (None, 28, 28, 512)  66048       ['conv3_block3_2_relu[0][0]']    Y          \n",
            "                                                                                                             \n",
            " conv3_block3_3_bn (BatchNormal  (None, 28, 28, 512)  2048       ['conv3_block3_3_conv[0][0]']    Y          \n",
            " ization)                                                                                                    \n",
            "                                                                                                             \n",
            " conv3_block3_add (Add)         (None, 28, 28, 512)  0           ['conv3_block2_out[0][0]',       Y          \n",
            "                                                                  'conv3_block3_3_bn[0][0]']                 \n",
            "                                                                                                             \n",
            " conv3_block3_out (Activation)  (None, 28, 28, 512)  0           ['conv3_block3_add[0][0]']       Y          \n",
            "                                                                                                             \n",
            " conv3_block4_1_conv (Conv2D)   (None, 28, 28, 128)  65664       ['conv3_block3_out[0][0]']       Y          \n",
            "                                                                                                             \n",
            " conv3_block4_1_bn (BatchNormal  (None, 28, 28, 128)  512        ['conv3_block4_1_conv[0][0]']    Y          \n",
            " ization)                                                                                                    \n",
            "                                                                                                             \n",
            " conv3_block4_1_relu (Activatio  (None, 28, 28, 128)  0          ['conv3_block4_1_bn[0][0]']      Y          \n",
            " n)                                                                                                          \n",
            "                                                                                                             \n",
            " conv3_block4_2_conv (Conv2D)   (None, 28, 28, 128)  147584      ['conv3_block4_1_relu[0][0]']    Y          \n",
            "                                                                                                             \n",
            " conv3_block4_2_bn (BatchNormal  (None, 28, 28, 128)  512        ['conv3_block4_2_conv[0][0]']    Y          \n",
            " ization)                                                                                                    \n",
            "                                                                                                             \n",
            " conv3_block4_2_relu (Activatio  (None, 28, 28, 128)  0          ['conv3_block4_2_bn[0][0]']      Y          \n",
            " n)                                                                                                          \n",
            "                                                                                                             \n",
            " conv3_block4_3_conv (Conv2D)   (None, 28, 28, 512)  66048       ['conv3_block4_2_relu[0][0]']    Y          \n",
            "                                                                                                             \n",
            " conv3_block4_3_bn (BatchNormal  (None, 28, 28, 512)  2048       ['conv3_block4_3_conv[0][0]']    Y          \n",
            " ization)                                                                                                    \n",
            "                                                                                                             \n",
            " conv3_block4_add (Add)         (None, 28, 28, 512)  0           ['conv3_block3_out[0][0]',       Y          \n",
            "                                                                  'conv3_block4_3_bn[0][0]']                 \n",
            "                                                                                                             \n",
            " conv3_block4_out (Activation)  (None, 28, 28, 512)  0           ['conv3_block4_add[0][0]']       Y          \n",
            "                                                                                                             \n",
            " conv4_block1_1_conv (Conv2D)   (None, 14, 14, 256)  131328      ['conv3_block4_out[0][0]']       Y          \n",
            "                                                                                                             \n",
            " conv4_block1_1_bn (BatchNormal  (None, 14, 14, 256)  1024       ['conv4_block1_1_conv[0][0]']    Y          \n",
            " ization)                                                                                                    \n",
            "                                                                                                             \n",
            " conv4_block1_1_relu (Activatio  (None, 14, 14, 256)  0          ['conv4_block1_1_bn[0][0]']      Y          \n",
            " n)                                                                                                          \n",
            "                                                                                                             \n",
            " conv4_block1_2_conv (Conv2D)   (None, 14, 14, 256)  590080      ['conv4_block1_1_relu[0][0]']    Y          \n",
            "                                                                                                             \n",
            " conv4_block1_2_bn (BatchNormal  (None, 14, 14, 256)  1024       ['conv4_block1_2_conv[0][0]']    Y          \n",
            " ization)                                                                                                    \n",
            "                                                                                                             \n",
            " conv4_block1_2_relu (Activatio  (None, 14, 14, 256)  0          ['conv4_block1_2_bn[0][0]']      Y          \n",
            " n)                                                                                                          \n",
            "                                                                                                             \n",
            " conv4_block1_0_conv (Conv2D)   (None, 14, 14, 1024  525312      ['conv3_block4_out[0][0]']       Y          \n",
            "                                )                                                                            \n",
            "                                                                                                             \n",
            " conv4_block1_3_conv (Conv2D)   (None, 14, 14, 1024  263168      ['conv4_block1_2_relu[0][0]']    Y          \n",
            "                                )                                                                            \n",
            "                                                                                                             \n",
            " conv4_block1_0_bn (BatchNormal  (None, 14, 14, 1024  4096       ['conv4_block1_0_conv[0][0]']    Y          \n",
            " ization)                       )                                                                            \n",
            "                                                                                                             \n",
            " conv4_block1_3_bn (BatchNormal  (None, 14, 14, 1024  4096       ['conv4_block1_3_conv[0][0]']    Y          \n",
            " ization)                       )                                                                            \n",
            "                                                                                                             \n",
            " conv4_block1_add (Add)         (None, 14, 14, 1024  0           ['conv4_block1_0_bn[0][0]',      Y          \n",
            "                                )                                 'conv4_block1_3_bn[0][0]']                 \n",
            "                                                                                                             \n",
            " conv4_block1_out (Activation)  (None, 14, 14, 1024  0           ['conv4_block1_add[0][0]']       Y          \n",
            "                                )                                                                            \n",
            "                                                                                                             \n",
            " conv4_block2_1_conv (Conv2D)   (None, 14, 14, 256)  262400      ['conv4_block1_out[0][0]']       Y          \n",
            "                                                                                                             \n",
            " conv4_block2_1_bn (BatchNormal  (None, 14, 14, 256)  1024       ['conv4_block2_1_conv[0][0]']    Y          \n",
            " ization)                                                                                                    \n",
            "                                                                                                             \n",
            " conv4_block2_1_relu (Activatio  (None, 14, 14, 256)  0          ['conv4_block2_1_bn[0][0]']      Y          \n",
            " n)                                                                                                          \n",
            "                                                                                                             \n",
            " conv4_block2_2_conv (Conv2D)   (None, 14, 14, 256)  590080      ['conv4_block2_1_relu[0][0]']    Y          \n",
            "                                                                                                             \n",
            " conv4_block2_2_bn (BatchNormal  (None, 14, 14, 256)  1024       ['conv4_block2_2_conv[0][0]']    Y          \n",
            " ization)                                                                                                    \n",
            "                                                                                                             \n",
            " conv4_block2_2_relu (Activatio  (None, 14, 14, 256)  0          ['conv4_block2_2_bn[0][0]']      Y          \n",
            " n)                                                                                                          \n",
            "                                                                                                             \n",
            " conv4_block2_3_conv (Conv2D)   (None, 14, 14, 1024  263168      ['conv4_block2_2_relu[0][0]']    Y          \n",
            "                                )                                                                            \n",
            "                                                                                                             \n",
            " conv4_block2_3_bn (BatchNormal  (None, 14, 14, 1024  4096       ['conv4_block2_3_conv[0][0]']    Y          \n",
            " ization)                       )                                                                            \n",
            "                                                                                                             \n",
            " conv4_block2_add (Add)         (None, 14, 14, 1024  0           ['conv4_block1_out[0][0]',       Y          \n",
            "                                )                                 'conv4_block2_3_bn[0][0]']                 \n",
            "                                                                                                             \n",
            " conv4_block2_out (Activation)  (None, 14, 14, 1024  0           ['conv4_block2_add[0][0]']       Y          \n",
            "                                )                                                                            \n",
            "                                                                                                             \n",
            " conv4_block3_1_conv (Conv2D)   (None, 14, 14, 256)  262400      ['conv4_block2_out[0][0]']       Y          \n",
            "                                                                                                             \n",
            " conv4_block3_1_bn (BatchNormal  (None, 14, 14, 256)  1024       ['conv4_block3_1_conv[0][0]']    Y          \n",
            " ization)                                                                                                    \n",
            "                                                                                                             \n",
            " conv4_block3_1_relu (Activatio  (None, 14, 14, 256)  0          ['conv4_block3_1_bn[0][0]']      Y          \n",
            " n)                                                                                                          \n",
            "                                                                                                             \n",
            " conv4_block3_2_conv (Conv2D)   (None, 14, 14, 256)  590080      ['conv4_block3_1_relu[0][0]']    Y          \n",
            "                                                                                                             \n",
            " conv4_block3_2_bn (BatchNormal  (None, 14, 14, 256)  1024       ['conv4_block3_2_conv[0][0]']    Y          \n",
            " ization)                                                                                                    \n",
            "                                                                                                             \n",
            " conv4_block3_2_relu (Activatio  (None, 14, 14, 256)  0          ['conv4_block3_2_bn[0][0]']      Y          \n",
            " n)                                                                                                          \n",
            "                                                                                                             \n",
            " conv4_block3_3_conv (Conv2D)   (None, 14, 14, 1024  263168      ['conv4_block3_2_relu[0][0]']    Y          \n",
            "                                )                                                                            \n",
            "                                                                                                             \n",
            " conv4_block3_3_bn (BatchNormal  (None, 14, 14, 1024  4096       ['conv4_block3_3_conv[0][0]']    Y          \n",
            " ization)                       )                                                                            \n",
            "                                                                                                             \n",
            " conv4_block3_add (Add)         (None, 14, 14, 1024  0           ['conv4_block2_out[0][0]',       Y          \n",
            "                                )                                 'conv4_block3_3_bn[0][0]']                 \n",
            "                                                                                                             \n",
            " conv4_block3_out (Activation)  (None, 14, 14, 1024  0           ['conv4_block3_add[0][0]']       Y          \n",
            "                                )                                                                            \n",
            "                                                                                                             \n",
            " conv4_block4_1_conv (Conv2D)   (None, 14, 14, 256)  262400      ['conv4_block3_out[0][0]']       Y          \n",
            "                                                                                                             \n",
            " conv4_block4_1_bn (BatchNormal  (None, 14, 14, 256)  1024       ['conv4_block4_1_conv[0][0]']    Y          \n",
            " ization)                                                                                                    \n",
            "                                                                                                             \n",
            " conv4_block4_1_relu (Activatio  (None, 14, 14, 256)  0          ['conv4_block4_1_bn[0][0]']      Y          \n",
            " n)                                                                                                          \n",
            "                                                                                                             \n",
            " conv4_block4_2_conv (Conv2D)   (None, 14, 14, 256)  590080      ['conv4_block4_1_relu[0][0]']    Y          \n",
            "                                                                                                             \n",
            " conv4_block4_2_bn (BatchNormal  (None, 14, 14, 256)  1024       ['conv4_block4_2_conv[0][0]']    Y          \n",
            " ization)                                                                                                    \n",
            "                                                                                                             \n",
            " conv4_block4_2_relu (Activatio  (None, 14, 14, 256)  0          ['conv4_block4_2_bn[0][0]']      Y          \n",
            " n)                                                                                                          \n",
            "                                                                                                             \n",
            " conv4_block4_3_conv (Conv2D)   (None, 14, 14, 1024  263168      ['conv4_block4_2_relu[0][0]']    Y          \n",
            "                                )                                                                            \n",
            "                                                                                                             \n",
            " conv4_block4_3_bn (BatchNormal  (None, 14, 14, 1024  4096       ['conv4_block4_3_conv[0][0]']    Y          \n",
            " ization)                       )                                                                            \n",
            "                                                                                                             \n",
            " conv4_block4_add (Add)         (None, 14, 14, 1024  0           ['conv4_block3_out[0][0]',       Y          \n",
            "                                )                                 'conv4_block4_3_bn[0][0]']                 \n",
            "                                                                                                             \n",
            " conv4_block4_out (Activation)  (None, 14, 14, 1024  0           ['conv4_block4_add[0][0]']       Y          \n",
            "                                )                                                                            \n",
            "                                                                                                             \n",
            " conv4_block5_1_conv (Conv2D)   (None, 14, 14, 256)  262400      ['conv4_block4_out[0][0]']       Y          \n",
            "                                                                                                             \n",
            " conv4_block5_1_bn (BatchNormal  (None, 14, 14, 256)  1024       ['conv4_block5_1_conv[0][0]']    Y          \n",
            " ization)                                                                                                    \n",
            "                                                                                                             \n",
            " conv4_block5_1_relu (Activatio  (None, 14, 14, 256)  0          ['conv4_block5_1_bn[0][0]']      Y          \n",
            " n)                                                                                                          \n",
            "                                                                                                             \n",
            " conv4_block5_2_conv (Conv2D)   (None, 14, 14, 256)  590080      ['conv4_block5_1_relu[0][0]']    Y          \n",
            "                                                                                                             \n",
            " conv4_block5_2_bn (BatchNormal  (None, 14, 14, 256)  1024       ['conv4_block5_2_conv[0][0]']    Y          \n",
            " ization)                                                                                                    \n",
            "                                                                                                             \n",
            " conv4_block5_2_relu (Activatio  (None, 14, 14, 256)  0          ['conv4_block5_2_bn[0][0]']      Y          \n",
            " n)                                                                                                          \n",
            "                                                                                                             \n",
            " conv4_block5_3_conv (Conv2D)   (None, 14, 14, 1024  263168      ['conv4_block5_2_relu[0][0]']    Y          \n",
            "                                )                                                                            \n",
            "                                                                                                             \n",
            " conv4_block5_3_bn (BatchNormal  (None, 14, 14, 1024  4096       ['conv4_block5_3_conv[0][0]']    Y          \n",
            " ization)                       )                                                                            \n",
            "                                                                                                             \n",
            " conv4_block5_add (Add)         (None, 14, 14, 1024  0           ['conv4_block4_out[0][0]',       Y          \n",
            "                                )                                 'conv4_block5_3_bn[0][0]']                 \n",
            "                                                                                                             \n",
            " conv4_block5_out (Activation)  (None, 14, 14, 1024  0           ['conv4_block5_add[0][0]']       Y          \n",
            "                                )                                                                            \n",
            "                                                                                                             \n",
            " conv4_block6_1_conv (Conv2D)   (None, 14, 14, 256)  262400      ['conv4_block5_out[0][0]']       Y          \n",
            "                                                                                                             \n",
            " conv4_block6_1_bn (BatchNormal  (None, 14, 14, 256)  1024       ['conv4_block6_1_conv[0][0]']    Y          \n",
            " ization)                                                                                                    \n",
            "                                                                                                             \n",
            " conv4_block6_1_relu (Activatio  (None, 14, 14, 256)  0          ['conv4_block6_1_bn[0][0]']      Y          \n",
            " n)                                                                                                          \n",
            "                                                                                                             \n",
            " conv4_block6_2_conv (Conv2D)   (None, 14, 14, 256)  590080      ['conv4_block6_1_relu[0][0]']    Y          \n",
            "                                                                                                             \n",
            " conv4_block6_2_bn (BatchNormal  (None, 14, 14, 256)  1024       ['conv4_block6_2_conv[0][0]']    Y          \n",
            " ization)                                                                                                    \n",
            "                                                                                                             \n",
            " conv4_block6_2_relu (Activatio  (None, 14, 14, 256)  0          ['conv4_block6_2_bn[0][0]']      Y          \n",
            " n)                                                                                                          \n",
            "                                                                                                             \n",
            " conv4_block6_3_conv (Conv2D)   (None, 14, 14, 1024  263168      ['conv4_block6_2_relu[0][0]']    Y          \n",
            "                                )                                                                            \n",
            "                                                                                                             \n",
            " conv4_block6_3_bn (BatchNormal  (None, 14, 14, 1024  4096       ['conv4_block6_3_conv[0][0]']    Y          \n",
            " ization)                       )                                                                            \n",
            "                                                                                                             \n",
            " conv4_block6_add (Add)         (None, 14, 14, 1024  0           ['conv4_block5_out[0][0]',       Y          \n",
            "                                )                                 'conv4_block6_3_bn[0][0]']                 \n",
            "                                                                                                             \n",
            " conv4_block6_out (Activation)  (None, 14, 14, 1024  0           ['conv4_block6_add[0][0]']       Y          \n",
            "                                )                                                                            \n",
            "                                                                                                             \n",
            " conv5_block1_1_conv (Conv2D)   (None, 7, 7, 512)    524800      ['conv4_block6_out[0][0]']       Y          \n",
            "                                                                                                             \n",
            " conv5_block1_1_bn (BatchNormal  (None, 7, 7, 512)   2048        ['conv5_block1_1_conv[0][0]']    Y          \n",
            " ization)                                                                                                    \n",
            "                                                                                                             \n",
            " conv5_block1_1_relu (Activatio  (None, 7, 7, 512)   0           ['conv5_block1_1_bn[0][0]']      Y          \n",
            " n)                                                                                                          \n",
            "                                                                                                             \n",
            " conv5_block1_2_conv (Conv2D)   (None, 7, 7, 512)    2359808     ['conv5_block1_1_relu[0][0]']    Y          \n",
            "                                                                                                             \n",
            " conv5_block1_2_bn (BatchNormal  (None, 7, 7, 512)   2048        ['conv5_block1_2_conv[0][0]']    Y          \n",
            " ization)                                                                                                    \n",
            "                                                                                                             \n",
            " conv5_block1_2_relu (Activatio  (None, 7, 7, 512)   0           ['conv5_block1_2_bn[0][0]']      Y          \n",
            " n)                                                                                                          \n",
            "                                                                                                             \n",
            " conv5_block1_0_conv (Conv2D)   (None, 7, 7, 2048)   2099200     ['conv4_block6_out[0][0]']       Y          \n",
            "                                                                                                             \n",
            " conv5_block1_3_conv (Conv2D)   (None, 7, 7, 2048)   1050624     ['conv5_block1_2_relu[0][0]']    Y          \n",
            "                                                                                                             \n",
            " conv5_block1_0_bn (BatchNormal  (None, 7, 7, 2048)  8192        ['conv5_block1_0_conv[0][0]']    Y          \n",
            " ization)                                                                                                    \n",
            "                                                                                                             \n",
            " conv5_block1_3_bn (BatchNormal  (None, 7, 7, 2048)  8192        ['conv5_block1_3_conv[0][0]']    Y          \n",
            " ization)                                                                                                    \n",
            "                                                                                                             \n",
            " conv5_block1_add (Add)         (None, 7, 7, 2048)   0           ['conv5_block1_0_bn[0][0]',      Y          \n",
            "                                                                  'conv5_block1_3_bn[0][0]']                 \n",
            "                                                                                                             \n",
            " conv5_block1_out (Activation)  (None, 7, 7, 2048)   0           ['conv5_block1_add[0][0]']       Y          \n",
            "                                                                                                             \n",
            " conv5_block2_1_conv (Conv2D)   (None, 7, 7, 512)    1049088     ['conv5_block1_out[0][0]']       Y          \n",
            "                                                                                                             \n",
            " conv5_block2_1_bn (BatchNormal  (None, 7, 7, 512)   2048        ['conv5_block2_1_conv[0][0]']    Y          \n",
            " ization)                                                                                                    \n",
            "                                                                                                             \n",
            " conv5_block2_1_relu (Activatio  (None, 7, 7, 512)   0           ['conv5_block2_1_bn[0][0]']      Y          \n",
            " n)                                                                                                          \n",
            "                                                                                                             \n",
            " conv5_block2_2_conv (Conv2D)   (None, 7, 7, 512)    2359808     ['conv5_block2_1_relu[0][0]']    Y          \n",
            "                                                                                                             \n",
            " conv5_block2_2_bn (BatchNormal  (None, 7, 7, 512)   2048        ['conv5_block2_2_conv[0][0]']    Y          \n",
            " ization)                                                                                                    \n",
            "                                                                                                             \n",
            " conv5_block2_2_relu (Activatio  (None, 7, 7, 512)   0           ['conv5_block2_2_bn[0][0]']      Y          \n",
            " n)                                                                                                          \n",
            "                                                                                                             \n",
            " conv5_block2_3_conv (Conv2D)   (None, 7, 7, 2048)   1050624     ['conv5_block2_2_relu[0][0]']    Y          \n",
            "                                                                                                             \n",
            " conv5_block2_3_bn (BatchNormal  (None, 7, 7, 2048)  8192        ['conv5_block2_3_conv[0][0]']    Y          \n",
            " ization)                                                                                                    \n",
            "                                                                                                             \n",
            " conv5_block2_add (Add)         (None, 7, 7, 2048)   0           ['conv5_block1_out[0][0]',       Y          \n",
            "                                                                  'conv5_block2_3_bn[0][0]']                 \n",
            "                                                                                                             \n",
            " conv5_block2_out (Activation)  (None, 7, 7, 2048)   0           ['conv5_block2_add[0][0]']       Y          \n",
            "                                                                                                             \n",
            " conv5_block3_1_conv (Conv2D)   (None, 7, 7, 512)    1049088     ['conv5_block2_out[0][0]']       Y          \n",
            "                                                                                                             \n",
            " conv5_block3_1_bn (BatchNormal  (None, 7, 7, 512)   2048        ['conv5_block3_1_conv[0][0]']    Y          \n",
            " ization)                                                                                                    \n",
            "                                                                                                             \n",
            " conv5_block3_1_relu (Activatio  (None, 7, 7, 512)   0           ['conv5_block3_1_bn[0][0]']      Y          \n",
            " n)                                                                                                          \n",
            "                                                                                                             \n",
            " conv5_block3_2_conv (Conv2D)   (None, 7, 7, 512)    2359808     ['conv5_block3_1_relu[0][0]']    Y          \n",
            "                                                                                                             \n",
            " conv5_block3_2_bn (BatchNormal  (None, 7, 7, 512)   2048        ['conv5_block3_2_conv[0][0]']    Y          \n",
            " ization)                                                                                                    \n",
            "                                                                                                             \n",
            " conv5_block3_2_relu (Activatio  (None, 7, 7, 512)   0           ['conv5_block3_2_bn[0][0]']      Y          \n",
            " n)                                                                                                          \n",
            "                                                                                                             \n",
            " conv5_block3_3_conv (Conv2D)   (None, 7, 7, 2048)   1050624     ['conv5_block3_2_relu[0][0]']    Y          \n",
            "                                                                                                             \n",
            " conv5_block3_3_bn (BatchNormal  (None, 7, 7, 2048)  8192        ['conv5_block3_3_conv[0][0]']    Y          \n",
            " ization)                                                                                                    \n",
            "                                                                                                             \n",
            " conv5_block3_add (Add)         (None, 7, 7, 2048)   0           ['conv5_block2_out[0][0]',       Y          \n",
            "                                                                  'conv5_block3_3_bn[0][0]']                 \n",
            "                                                                                                             \n",
            " conv5_block3_out (Activation)  (None, 7, 7, 2048)   0           ['conv5_block3_add[0][0]']       Y          \n",
            "                                                                                                             \n",
            "=============================================================================================================\n",
            "Total params: 23,587,712\n",
            "Trainable params: 23,534,592\n",
            "Non-trainable params: 53,120\n",
            "_____________________________________________________________________________________________________________\n"
          ]
        }
      ]
    },
    {
      "cell_type": "code",
      "source": [
        "model.summary(show_trainable = True)"
      ],
      "metadata": {
        "colab": {
          "base_uri": "https://localhost:8080/"
        },
        "id": "RqM2yrR_837k",
        "outputId": "9d9eb1ab-8f61-4dcf-f6e3-fbebaee7623f"
      },
      "execution_count": null,
      "outputs": [
        {
          "output_type": "stream",
          "name": "stdout",
          "text": [
            "Model: \"model\"\n",
            "____________________________________________________________________________\n",
            " Layer (type)                Output Shape              Param #   Trainable  \n",
            "============================================================================\n",
            " input_2 (InputLayer)        [(None, 256, 256, 3)]     0         Y          \n",
            "                                                                            \n",
            " sequential (Sequential)     (None, 224, 224, 3)       0         Y          \n",
            "                                                                            \n",
            " tf.__operators__.getitem (S  (None, 224, 224, 3)      0         Y          \n",
            " licingOpLambda)                                                            \n",
            "                                                                            \n",
            " tf.nn.bias_add (TFOpLambda)  (None, 224, 224, 3)      0         Y          \n",
            "                                                                            \n",
            " resnet50 (Functional)       (None, 7, 7, 2048)        23587712  Y          \n",
            "                                                                            \n",
            " global_average_pooling2d (G  (None, 2048)             0         Y          \n",
            " lobalAveragePooling2D)                                                     \n",
            "                                                                            \n",
            " pred (Dense)                (None, 9)                 18441     Y          \n",
            "                                                                            \n",
            "============================================================================\n",
            "Total params: 23,606,153\n",
            "Trainable params: 23,553,033\n",
            "Non-trainable params: 53,120\n",
            "____________________________________________________________________________\n"
          ]
        }
      ]
    },
    {
      "cell_type": "code",
      "source": [
        "model.compile(loss='binary_crossentropy', optimizer = keras.optimizers.Adam(learning_rate = INITIAL_LR), metrics=['categorical_accuracy'])"
      ],
      "metadata": {
        "id": "GYq3eA7w9GS8"
      },
      "execution_count": null,
      "outputs": []
    },
    {
      "cell_type": "code",
      "source": [
        "history = model.fit(ds_train, validation_data = ds_valid, epochs = 50, callbacks = callbacks, verbose = 1)"
      ],
      "metadata": {
        "colab": {
          "base_uri": "https://localhost:8080/"
        },
        "id": "PW3NerxS9K-E",
        "outputId": "fbcd7bad-86bf-4c41-9856-7be7e41f304a"
      },
      "execution_count": null,
      "outputs": [
        {
          "output_type": "stream",
          "name": "stdout",
          "text": [
            "Epoch 1/50\n",
            "328/328 [==============================] - ETA: 0s - loss: 0.1585 - categorical_accuracy: 0.7282\n",
            "Epoch 1: val_loss improved from 0.15128 to 0.12924, saving model to [FINAL]DeepWeeds_Resnet_TopOnly_Sigmoid_(CenterCrop)BestWeights.hdf5\n",
            "328/328 [==============================] - 84s 131ms/step - loss: 0.1585 - categorical_accuracy: 0.7282 - val_loss: 0.1292 - val_categorical_accuracy: 0.7775 - lr: 1.0000e-05\n",
            "Epoch 2/50\n",
            "328/328 [==============================] - ETA: 0s - loss: 0.1204 - categorical_accuracy: 0.7995\n",
            "Epoch 2: val_loss improved from 0.12924 to 0.11088, saving model to [FINAL]DeepWeeds_Resnet_TopOnly_Sigmoid_(CenterCrop)BestWeights.hdf5\n",
            "328/328 [==============================] - 46s 141ms/step - loss: 0.1204 - categorical_accuracy: 0.7995 - val_loss: 0.1109 - val_categorical_accuracy: 0.8179 - lr: 1.0000e-05\n",
            "Epoch 3/50\n",
            "328/328 [==============================] - ETA: 0s - loss: 0.1041 - categorical_accuracy: 0.8302\n",
            "Epoch 3: val_loss improved from 0.11088 to 0.09775, saving model to [FINAL]DeepWeeds_Resnet_TopOnly_Sigmoid_(CenterCrop)BestWeights.hdf5\n",
            "328/328 [==============================] - 47s 142ms/step - loss: 0.1041 - categorical_accuracy: 0.8302 - val_loss: 0.0978 - val_categorical_accuracy: 0.8423 - lr: 1.0000e-05\n",
            "Epoch 4/50\n",
            "328/328 [==============================] - ETA: 0s - loss: 0.0927 - categorical_accuracy: 0.8538\n",
            "Epoch 4: val_loss improved from 0.09775 to 0.09095, saving model to [FINAL]DeepWeeds_Resnet_TopOnly_Sigmoid_(CenterCrop)BestWeights.hdf5\n",
            "328/328 [==============================] - 46s 139ms/step - loss: 0.0927 - categorical_accuracy: 0.8538 - val_loss: 0.0909 - val_categorical_accuracy: 0.8538 - lr: 1.0000e-05\n",
            "Epoch 5/50\n",
            "328/328 [==============================] - ETA: 0s - loss: 0.0847 - categorical_accuracy: 0.8639\n",
            "Epoch 5: val_loss improved from 0.09095 to 0.08409, saving model to [FINAL]DeepWeeds_Resnet_TopOnly_Sigmoid_(CenterCrop)BestWeights.hdf5\n",
            "328/328 [==============================] - 46s 140ms/step - loss: 0.0847 - categorical_accuracy: 0.8639 - val_loss: 0.0841 - val_categorical_accuracy: 0.8650 - lr: 1.0000e-05\n",
            "Epoch 6/50\n",
            "328/328 [==============================] - ETA: 0s - loss: 0.0767 - categorical_accuracy: 0.8802\n",
            "Epoch 6: val_loss improved from 0.08409 to 0.07798, saving model to [FINAL]DeepWeeds_Resnet_TopOnly_Sigmoid_(CenterCrop)BestWeights.hdf5\n",
            "328/328 [==============================] - 46s 139ms/step - loss: 0.0767 - categorical_accuracy: 0.8802 - val_loss: 0.0780 - val_categorical_accuracy: 0.8767 - lr: 1.0000e-05\n",
            "Epoch 7/50\n",
            "328/328 [==============================] - ETA: 0s - loss: 0.0714 - categorical_accuracy: 0.8892\n",
            "Epoch 7: val_loss improved from 0.07798 to 0.07462, saving model to [FINAL]DeepWeeds_Resnet_TopOnly_Sigmoid_(CenterCrop)BestWeights.hdf5\n",
            "328/328 [==============================] - 46s 140ms/step - loss: 0.0714 - categorical_accuracy: 0.8892 - val_loss: 0.0746 - val_categorical_accuracy: 0.8845 - lr: 1.0000e-05\n",
            "Epoch 8/50\n",
            "328/328 [==============================] - ETA: 0s - loss: 0.0669 - categorical_accuracy: 0.8979\n",
            "Epoch 8: val_loss improved from 0.07462 to 0.07116, saving model to [FINAL]DeepWeeds_Resnet_TopOnly_Sigmoid_(CenterCrop)BestWeights.hdf5\n",
            "328/328 [==============================] - 47s 143ms/step - loss: 0.0669 - categorical_accuracy: 0.8979 - val_loss: 0.0712 - val_categorical_accuracy: 0.8847 - lr: 1.0000e-05\n",
            "Epoch 9/50\n",
            "328/328 [==============================] - ETA: 0s - loss: 0.0601 - categorical_accuracy: 0.9042\n",
            "Epoch 9: val_loss improved from 0.07116 to 0.06651, saving model to [FINAL]DeepWeeds_Resnet_TopOnly_Sigmoid_(CenterCrop)BestWeights.hdf5\n",
            "328/328 [==============================] - 46s 139ms/step - loss: 0.0601 - categorical_accuracy: 0.9042 - val_loss: 0.0665 - val_categorical_accuracy: 0.8942 - lr: 1.0000e-05\n",
            "Epoch 10/50\n",
            "328/328 [==============================] - ETA: 0s - loss: 0.0584 - categorical_accuracy: 0.9100\n",
            "Epoch 10: val_loss improved from 0.06651 to 0.06460, saving model to [FINAL]DeepWeeds_Resnet_TopOnly_Sigmoid_(CenterCrop)BestWeights.hdf5\n",
            "328/328 [==============================] - 46s 139ms/step - loss: 0.0584 - categorical_accuracy: 0.9100 - val_loss: 0.0646 - val_categorical_accuracy: 0.9005 - lr: 1.0000e-05\n",
            "Epoch 11/50\n",
            "328/328 [==============================] - ETA: 0s - loss: 0.0525 - categorical_accuracy: 0.9223\n",
            "Epoch 11: val_loss improved from 0.06460 to 0.06399, saving model to [FINAL]DeepWeeds_Resnet_TopOnly_Sigmoid_(CenterCrop)BestWeights.hdf5\n",
            "328/328 [==============================] - 46s 140ms/step - loss: 0.0525 - categorical_accuracy: 0.9223 - val_loss: 0.0640 - val_categorical_accuracy: 0.8982 - lr: 1.0000e-05\n",
            "Epoch 12/50\n",
            "328/328 [==============================] - ETA: 0s - loss: 0.0495 - categorical_accuracy: 0.9243\n",
            "Epoch 12: val_loss improved from 0.06399 to 0.06110, saving model to [FINAL]DeepWeeds_Resnet_TopOnly_Sigmoid_(CenterCrop)BestWeights.hdf5\n",
            "328/328 [==============================] - 42s 129ms/step - loss: 0.0495 - categorical_accuracy: 0.9243 - val_loss: 0.0611 - val_categorical_accuracy: 0.9083 - lr: 1.0000e-05\n",
            "Epoch 13/50\n",
            "328/328 [==============================] - ETA: 0s - loss: 0.0464 - categorical_accuracy: 0.9326\n",
            "Epoch 13: val_loss improved from 0.06110 to 0.05927, saving model to [FINAL]DeepWeeds_Resnet_TopOnly_Sigmoid_(CenterCrop)BestWeights.hdf5\n",
            "328/328 [==============================] - 46s 140ms/step - loss: 0.0464 - categorical_accuracy: 0.9326 - val_loss: 0.0593 - val_categorical_accuracy: 0.9108 - lr: 1.0000e-05\n",
            "Epoch 14/50\n",
            "328/328 [==============================] - ETA: 0s - loss: 0.0447 - categorical_accuracy: 0.9349\n",
            "Epoch 14: val_loss improved from 0.05927 to 0.05702, saving model to [FINAL]DeepWeeds_Resnet_TopOnly_Sigmoid_(CenterCrop)BestWeights.hdf5\n",
            "328/328 [==============================] - 46s 139ms/step - loss: 0.0447 - categorical_accuracy: 0.9349 - val_loss: 0.0570 - val_categorical_accuracy: 0.9131 - lr: 1.0000e-05\n",
            "Epoch 15/50\n",
            "328/328 [==============================] - ETA: 0s - loss: 0.0422 - categorical_accuracy: 0.9376\n",
            "Epoch 15: val_loss improved from 0.05702 to 0.05638, saving model to [FINAL]DeepWeeds_Resnet_TopOnly_Sigmoid_(CenterCrop)BestWeights.hdf5\n",
            "328/328 [==============================] - 46s 139ms/step - loss: 0.0422 - categorical_accuracy: 0.9376 - val_loss: 0.0564 - val_categorical_accuracy: 0.9160 - lr: 1.0000e-05\n",
            "Epoch 16/50\n",
            "328/328 [==============================] - ETA: 0s - loss: 0.0417 - categorical_accuracy: 0.9388\n",
            "Epoch 16: val_loss improved from 0.05638 to 0.05554, saving model to [FINAL]DeepWeeds_Resnet_TopOnly_Sigmoid_(CenterCrop)BestWeights.hdf5\n",
            "328/328 [==============================] - 42s 129ms/step - loss: 0.0417 - categorical_accuracy: 0.9388 - val_loss: 0.0555 - val_categorical_accuracy: 0.9154 - lr: 1.0000e-05\n",
            "Epoch 17/50\n",
            "328/328 [==============================] - ETA: 0s - loss: 0.0377 - categorical_accuracy: 0.9441\n",
            "Epoch 17: val_loss did not improve from 0.05554\n",
            "328/328 [==============================] - 40s 121ms/step - loss: 0.0377 - categorical_accuracy: 0.9441 - val_loss: 0.0571 - val_categorical_accuracy: 0.9120 - lr: 1.0000e-05\n",
            "Epoch 18/50\n",
            "328/328 [==============================] - ETA: 0s - loss: 0.0362 - categorical_accuracy: 0.9466\n",
            "Epoch 18: val_loss improved from 0.05554 to 0.05410, saving model to [FINAL]DeepWeeds_Resnet_TopOnly_Sigmoid_(CenterCrop)BestWeights.hdf5\n",
            "328/328 [==============================] - 42s 127ms/step - loss: 0.0362 - categorical_accuracy: 0.9466 - val_loss: 0.0541 - val_categorical_accuracy: 0.9177 - lr: 1.0000e-05\n",
            "Epoch 19/50\n",
            "328/328 [==============================] - ETA: 0s - loss: 0.0335 - categorical_accuracy: 0.9509\n",
            "Epoch 19: val_loss did not improve from 0.05410\n",
            "328/328 [==============================] - 41s 125ms/step - loss: 0.0335 - categorical_accuracy: 0.9509 - val_loss: 0.0545 - val_categorical_accuracy: 0.9174 - lr: 1.0000e-05\n",
            "Epoch 20/50\n",
            "328/328 [==============================] - ETA: 0s - loss: 0.0317 - categorical_accuracy: 0.9535\n",
            "Epoch 20: val_loss did not improve from 0.05410\n",
            "328/328 [==============================] - 40s 122ms/step - loss: 0.0317 - categorical_accuracy: 0.9535 - val_loss: 0.0543 - val_categorical_accuracy: 0.9192 - lr: 1.0000e-05\n",
            "Epoch 21/50\n",
            "328/328 [==============================] - ETA: 0s - loss: 0.0311 - categorical_accuracy: 0.9556\n",
            "Epoch 21: val_loss improved from 0.05410 to 0.05280, saving model to [FINAL]DeepWeeds_Resnet_TopOnly_Sigmoid_(CenterCrop)BestWeights.hdf5\n",
            "328/328 [==============================] - 45s 138ms/step - loss: 0.0311 - categorical_accuracy: 0.9556 - val_loss: 0.0528 - val_categorical_accuracy: 0.9240 - lr: 1.0000e-05\n",
            "Epoch 22/50\n",
            "328/328 [==============================] - ETA: 0s - loss: 0.0279 - categorical_accuracy: 0.9624\n",
            "Epoch 22: val_loss did not improve from 0.05280\n",
            "328/328 [==============================] - 41s 125ms/step - loss: 0.0279 - categorical_accuracy: 0.9624 - val_loss: 0.0550 - val_categorical_accuracy: 0.9180 - lr: 1.0000e-05\n",
            "Epoch 23/50\n",
            "328/328 [==============================] - ETA: 0s - loss: 0.0281 - categorical_accuracy: 0.9600\n",
            "Epoch 23: val_loss did not improve from 0.05280\n",
            "328/328 [==============================] - 41s 124ms/step - loss: 0.0281 - categorical_accuracy: 0.9600 - val_loss: 0.0537 - val_categorical_accuracy: 0.9177 - lr: 1.0000e-05\n",
            "Epoch 24/50\n",
            "328/328 [==============================] - ETA: 0s - loss: 0.0266 - categorical_accuracy: 0.9639\n",
            "Epoch 24: val_loss improved from 0.05280 to 0.05251, saving model to [FINAL]DeepWeeds_Resnet_TopOnly_Sigmoid_(CenterCrop)BestWeights.hdf5\n",
            "328/328 [==============================] - 47s 142ms/step - loss: 0.0266 - categorical_accuracy: 0.9639 - val_loss: 0.0525 - val_categorical_accuracy: 0.9260 - lr: 1.0000e-05\n",
            "Epoch 25/50\n",
            "328/328 [==============================] - ETA: 0s - loss: 0.0255 - categorical_accuracy: 0.9647\n",
            "Epoch 25: val_loss did not improve from 0.05251\n",
            "328/328 [==============================] - 41s 125ms/step - loss: 0.0255 - categorical_accuracy: 0.9647 - val_loss: 0.0539 - val_categorical_accuracy: 0.9226 - lr: 1.0000e-05\n",
            "Epoch 26/50\n",
            "328/328 [==============================] - ETA: 0s - loss: 0.0235 - categorical_accuracy: 0.9685\n",
            "Epoch 26: val_loss improved from 0.05251 to 0.05149, saving model to [FINAL]DeepWeeds_Resnet_TopOnly_Sigmoid_(CenterCrop)BestWeights.hdf5\n",
            "328/328 [==============================] - 46s 140ms/step - loss: 0.0235 - categorical_accuracy: 0.9685 - val_loss: 0.0515 - val_categorical_accuracy: 0.9260 - lr: 1.0000e-05\n",
            "Epoch 27/50\n",
            "328/328 [==============================] - ETA: 0s - loss: 0.0229 - categorical_accuracy: 0.9688\n",
            "Epoch 27: val_loss did not improve from 0.05149\n",
            "328/328 [==============================] - 41s 126ms/step - loss: 0.0229 - categorical_accuracy: 0.9688 - val_loss: 0.0532 - val_categorical_accuracy: 0.9235 - lr: 1.0000e-05\n",
            "Epoch 28/50\n",
            "328/328 [==============================] - ETA: 0s - loss: 0.0208 - categorical_accuracy: 0.9716\n",
            "Epoch 28: val_loss did not improve from 0.05149\n",
            "328/328 [==============================] - 40s 123ms/step - loss: 0.0208 - categorical_accuracy: 0.9716 - val_loss: 0.0523 - val_categorical_accuracy: 0.9235 - lr: 1.0000e-05\n",
            "Epoch 29/50\n",
            "328/328 [==============================] - ETA: 0s - loss: 0.0210 - categorical_accuracy: 0.9729\n",
            "Epoch 29: val_loss did not improve from 0.05149\n",
            "328/328 [==============================] - 41s 125ms/step - loss: 0.0210 - categorical_accuracy: 0.9729 - val_loss: 0.0538 - val_categorical_accuracy: 0.9206 - lr: 1.0000e-05\n",
            "Epoch 30/50\n",
            "328/328 [==============================] - ETA: 0s - loss: 0.0204 - categorical_accuracy: 0.9739\n",
            "Epoch 30: val_loss did not improve from 0.05149\n",
            "328/328 [==============================] - 41s 126ms/step - loss: 0.0204 - categorical_accuracy: 0.9739 - val_loss: 0.0529 - val_categorical_accuracy: 0.9252 - lr: 1.0000e-05\n",
            "Epoch 31/50\n",
            "328/328 [==============================] - ETA: 0s - loss: 0.0206 - categorical_accuracy: 0.9740\n",
            "Epoch 31: val_loss did not improve from 0.05149\n",
            "328/328 [==============================] - 41s 125ms/step - loss: 0.0206 - categorical_accuracy: 0.9740 - val_loss: 0.0535 - val_categorical_accuracy: 0.9217 - lr: 1.0000e-05\n",
            "Epoch 32/50\n",
            "328/328 [==============================] - ETA: 0s - loss: 0.0169 - categorical_accuracy: 0.9799\n",
            "Epoch 32: val_loss did not improve from 0.05149\n",
            "328/328 [==============================] - 40s 121ms/step - loss: 0.0169 - categorical_accuracy: 0.9799 - val_loss: 0.0519 - val_categorical_accuracy: 0.9278 - lr: 5.0000e-06\n",
            "Epoch 33/50\n",
            "328/328 [==============================] - ETA: 0s - loss: 0.0155 - categorical_accuracy: 0.9813\n",
            "Epoch 33: val_loss improved from 0.05149 to 0.05099, saving model to [FINAL]DeepWeeds_Resnet_TopOnly_Sigmoid_(CenterCrop)BestWeights.hdf5\n",
            "328/328 [==============================] - 45s 136ms/step - loss: 0.0155 - categorical_accuracy: 0.9813 - val_loss: 0.0510 - val_categorical_accuracy: 0.9295 - lr: 5.0000e-06\n",
            "Epoch 34/50\n",
            "328/328 [==============================] - ETA: 0s - loss: 0.0156 - categorical_accuracy: 0.9796\n",
            "Epoch 34: val_loss did not improve from 0.05099\n",
            "328/328 [==============================] - 40s 121ms/step - loss: 0.0156 - categorical_accuracy: 0.9796 - val_loss: 0.0529 - val_categorical_accuracy: 0.9235 - lr: 5.0000e-06\n",
            "Epoch 35/50\n",
            "328/328 [==============================] - ETA: 0s - loss: 0.0144 - categorical_accuracy: 0.9828\n",
            "Epoch 35: val_loss did not improve from 0.05099\n",
            "328/328 [==============================] - 40s 121ms/step - loss: 0.0144 - categorical_accuracy: 0.9828 - val_loss: 0.0528 - val_categorical_accuracy: 0.9269 - lr: 5.0000e-06\n",
            "Epoch 36/50\n",
            "328/328 [==============================] - ETA: 0s - loss: 0.0142 - categorical_accuracy: 0.9844\n",
            "Epoch 36: val_loss did not improve from 0.05099\n",
            "328/328 [==============================] - 41s 125ms/step - loss: 0.0142 - categorical_accuracy: 0.9844 - val_loss: 0.0532 - val_categorical_accuracy: 0.9257 - lr: 5.0000e-06\n",
            "Epoch 37/50\n",
            "328/328 [==============================] - ETA: 0s - loss: 0.0139 - categorical_accuracy: 0.9826\n",
            "Epoch 37: val_loss did not improve from 0.05099\n",
            "328/328 [==============================] - 40s 122ms/step - loss: 0.0139 - categorical_accuracy: 0.9826 - val_loss: 0.0521 - val_categorical_accuracy: 0.9292 - lr: 5.0000e-06\n",
            "Epoch 38/50\n",
            "328/328 [==============================] - ETA: 0s - loss: 0.0128 - categorical_accuracy: 0.9859\n",
            "Epoch 38: val_loss did not improve from 0.05099\n",
            "328/328 [==============================] - 41s 124ms/step - loss: 0.0128 - categorical_accuracy: 0.9859 - val_loss: 0.0528 - val_categorical_accuracy: 0.9275 - lr: 5.0000e-06\n",
            "Epoch 39/50\n",
            "328/328 [==============================] - ETA: 0s - loss: 0.0141 - categorical_accuracy: 0.9824\n",
            "Epoch 39: val_loss did not improve from 0.05099\n",
            "328/328 [==============================] - 41s 126ms/step - loss: 0.0141 - categorical_accuracy: 0.9824 - val_loss: 0.0532 - val_categorical_accuracy: 0.9280 - lr: 3.1250e-06\n",
            "Epoch 40/50\n",
            "328/328 [==============================] - ETA: 0s - loss: 0.0119 - categorical_accuracy: 0.9873\n",
            "Epoch 40: val_loss did not improve from 0.05099\n",
            "328/328 [==============================] - 41s 126ms/step - loss: 0.0119 - categorical_accuracy: 0.9873 - val_loss: 0.0533 - val_categorical_accuracy: 0.9286 - lr: 3.1250e-06\n",
            "Epoch 41/50\n",
            "328/328 [==============================] - ETA: 0s - loss: 0.0114 - categorical_accuracy: 0.9877\n",
            "Epoch 41: val_loss did not improve from 0.05099\n",
            "328/328 [==============================] - 40s 122ms/step - loss: 0.0114 - categorical_accuracy: 0.9877 - val_loss: 0.0531 - val_categorical_accuracy: 0.9286 - lr: 3.1250e-06\n",
            "Epoch 42/50\n",
            "328/328 [==============================] - ETA: 0s - loss: 0.0115 - categorical_accuracy: 0.9883\n",
            "Epoch 42: val_loss did not improve from 0.05099\n",
            "328/328 [==============================] - 40s 123ms/step - loss: 0.0115 - categorical_accuracy: 0.9883 - val_loss: 0.0530 - val_categorical_accuracy: 0.9289 - lr: 3.1250e-06\n",
            "Epoch 43/50\n",
            "328/328 [==============================] - ETA: 0s - loss: 0.0111 - categorical_accuracy: 0.9887\n",
            "Epoch 43: val_loss did not improve from 0.05099\n",
            "328/328 [==============================] - 40s 122ms/step - loss: 0.0111 - categorical_accuracy: 0.9887 - val_loss: 0.0532 - val_categorical_accuracy: 0.9289 - lr: 3.1250e-06\n"
          ]
        }
      ]
    },
    {
      "cell_type": "code",
      "source": [
        "result = model.evaluate(ds_test)"
      ],
      "metadata": {
        "colab": {
          "base_uri": "https://localhost:8080/"
        },
        "id": "4_0zzDoU9NIk",
        "outputId": "7790487d-6590-41b8-dc20-684460134a07"
      },
      "execution_count": null,
      "outputs": [
        {
          "output_type": "stream",
          "name": "stdout",
          "text": [
            "109/109 [==============================] - 5s 46ms/step - loss: 0.0538 - categorical_accuracy: 0.9232\n"
          ]
        }
      ]
    },
    {
      "cell_type": "code",
      "source": [
        "plot_hist(history)"
      ],
      "metadata": {
        "colab": {
          "base_uri": "https://localhost:8080/",
          "height": 472
        },
        "id": "5qGvqwjU9P5Q",
        "outputId": "aa9307c6-bc8e-4148-8727-4032fcdc494f"
      },
      "execution_count": null,
      "outputs": [
        {
          "output_type": "display_data",
          "data": {
            "text/plain": [
              "<Figure size 640x480 with 1 Axes>"
            ],
            "image/png": "[encoded data removed]"
          },
          "metadata": {}
        }
      ]
    },
    {
      "cell_type": "code",
      "source": [
        "plot_hist_loss(history)"
      ],
      "metadata": {
        "colab": {
          "base_uri": "https://localhost:8080/",
          "height": 472
        },
        "id": "aLwNAZ9k9Q1-",
        "outputId": "86352df6-76cd-4d1b-fb32-bed0ef20ae61"
      },
      "execution_count": null,
      "outputs": [
        {
          "output_type": "display_data",
          "data": {
            "text/plain": [
              "<Figure size 640x480 with 1 Axes>"
            ],
            "image/png": "[encoded data removed]"
          },
          "metadata": {}
        }
      ]
    },
    {
      "cell_type": "markdown",
      "source": [
        "# Classification Report & Confusion Matrix"
      ],
      "metadata": {
        "id": "9YVnK41r9lcH"
      }
    },
    {
      "cell_type": "code",
      "source": [
        "from sklearn.metrics import confusion_matrix, classification_report, ConfusionMatrixDisplay"
      ],
      "metadata": {
        "id": "60FOlmFq9nZq"
      },
      "execution_count": null,
      "outputs": []
    },
    {
      "cell_type": "code",
      "source": [
        "ds_test_labels = []\n",
        "ds_test_inputs = []\n",
        "ds_test_unbatch = ds_test.unbatch()\n",
        "for x,y in ds_test_unbatch.as_numpy_iterator():\n",
        "  ds_test_inputs.append(x)\n",
        "  ds_test_labels.append(y)"
      ],
      "metadata": {
        "id": "RPA2G7I19ofy"
      },
      "execution_count": null,
      "outputs": []
    },
    {
      "cell_type": "code",
      "source": [
        "np.array(ds_test_inputs).shape"
      ],
      "metadata": {
        "colab": {
          "base_uri": "https://localhost:8080/"
        },
        "id": "R4GYp_NP9pdz",
        "outputId": "cac92d6f-8195-4f21-bfe8-786f44a945bf"
      },
      "execution_count": null,
      "outputs": [
        {
          "output_type": "execute_result",
          "data": {
            "text/plain": [
              "(3488, 256, 256, 3)"
            ]
          },
          "metadata": {},
          "execution_count": 34
        }
      ]
    },
    {
      "cell_type": "code",
      "source": [
        "pred = model.predict(ds_test)"
      ],
      "metadata": {
        "colab": {
          "base_uri": "https://localhost:8080/"
        },
        "id": "S1vIe89-9qZi",
        "outputId": "3ef1e82f-f8d2-490e-b14f-286c1828f045"
      },
      "execution_count": null,
      "outputs": [
        {
          "output_type": "stream",
          "name": "stdout",
          "text": [
            "109/109 [==============================] - 7s 51ms/step\n"
          ]
        }
      ]
    },
    {
      "cell_type": "code",
      "source": [
        "predzi = np.argmax(pred, axis=1)"
      ],
      "metadata": {
        "id": "NV4d6h6b9rLl"
      },
      "execution_count": null,
      "outputs": []
    },
    {
      "cell_type": "code",
      "source": [
        "ds_label_aaa = np.argmax(ds_test_labels, axis=1)"
      ],
      "metadata": {
        "id": "b8r13mKA9sH5"
      },
      "execution_count": null,
      "outputs": []
    },
    {
      "cell_type": "code",
      "source": [
        "print(classification_report(ds_label_aaa, predzi, labels=CLASSES, target_names=CLASS_NAMES))"
      ],
      "metadata": {
        "colab": {
          "base_uri": "https://localhost:8080/"
        },
        "id": "4mr6LKha9tEs",
        "outputId": "b1046bb7-c0a6-4e26-fc0c-2b78f0968439"
      },
      "execution_count": null,
      "outputs": [
        {
          "output_type": "stream",
          "name": "stdout",
          "text": [
            "                precision    recall  f1-score   support\n",
            "\n",
            "  Chinee Apple       0.92      0.74      0.82       234\n",
            "       Lantana       0.91      0.91      0.91       211\n",
            "   Parkinsonia       0.94      0.92      0.93       213\n",
            "    Parthenium       0.91      0.94      0.92       203\n",
            "Prickly Acacia       0.88      0.89      0.88       217\n",
            "   Rubber Vine       0.96      0.88      0.92       199\n",
            "     Siam Weed       0.94      0.92      0.93       216\n",
            "    Snake Weed       0.89      0.85      0.87       233\n",
            "     Negatives       0.93      0.97      0.95      1762\n",
            "\n",
            "      accuracy                           0.92      3488\n",
            "     macro avg       0.92      0.89      0.90      3488\n",
            "  weighted avg       0.92      0.92      0.92      3488\n",
            "\n"
          ]
        }
      ]
    },
    {
      "cell_type": "code",
      "source": [
        "fig, ax = plt.subplots(figsize=(12.5, 12.5))\n",
        "ConfusionMatrixDisplay.from_predictions(ds_label_aaa, predzi, ax = ax, display_labels = CLASS_NAMES)"
      ],
      "metadata": {
        "colab": {
          "base_uri": "https://localhost:8080/",
          "height": 1000
        },
        "id": "EgfWsMqx99AG",
        "outputId": "e97ee519-fc42-4c17-d22f-52457ae12709"
      },
      "execution_count": null,
      "outputs": [
        {
          "output_type": "execute_result",
          "data": {
            "text/plain": [
              "<sklearn.metrics._plot.confusion_matrix.ConfusionMatrixDisplay at 0x7f2305506500>"
            ]
          },
          "metadata": {},
          "execution_count": 39
        },
        {
          "output_type": "display_data",
          "data": {
            "text/plain": [
              "<Figure size 1250x1250 with 2 Axes>"
            ],
            "image/png": "[encoded data removed]"
          },
          "metadata": {}
        }
      ]
    }
  ]
}